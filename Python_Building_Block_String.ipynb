{
  "nbformat": 4,
  "nbformat_minor": 0,
  "metadata": {
    "colab": {
      "provenance": [],
      "toc_visible": true,
      "authorship_tag": "ABX9TyP42PLNwOqan96GzxfcZkMJ",
      "include_colab_link": true
    },
    "kernelspec": {
      "name": "python3",
      "display_name": "Python 3"
    },
    "language_info": {
      "name": "python"
    }
  },
  "cells": [
    {
      "cell_type": "markdown",
      "metadata": {
        "id": "view-in-github",
        "colab_type": "text"
      },
      "source": [
        "<a href=\"https://colab.research.google.com/github/Shivang-Quantum/QuantaPytha/blob/Building_Blocks/Python_Building_Block_String.ipynb\" target=\"_parent\"><img src=\"https://colab.research.google.com/assets/colab-badge.svg\" alt=\"Open In Colab\"/></a>"
      ]
    },
    {
      "cell_type": "code",
      "execution_count": null,
      "metadata": {
        "id": "xRFS_9SRkyd3",
        "colab": {
          "base_uri": "https://localhost:8080/"
        },
        "outputId": "c34e60be-8d52-4c10-88d3-381f0a97898c"
      },
      "outputs": [
        {
          "output_type": "stream",
          "name": "stdout",
          "text": [
            "['__add__', '__class__', '__contains__', '__delattr__', '__dir__', '__doc__', '__eq__', '__format__', '__ge__', '__getattribute__', '__getitem__', '__getnewargs__', '__gt__', '__hash__', '__init__', '__init_subclass__', '__iter__', '__le__', '__len__', '__lt__', '__mod__', '__mul__', '__ne__', '__new__', '__reduce__', '__reduce_ex__', '__repr__', '__rmod__', '__rmul__', '__setattr__', '__sizeof__', '__str__', '__subclasshook__', 'capitalize', 'casefold', 'center', 'count', 'encode', 'endswith', 'expandtabs', 'find', 'format', 'format_map', 'index', 'isalnum', 'isalpha', 'isascii', 'isdecimal', 'isdigit', 'isidentifier', 'islower', 'isnumeric', 'isprintable', 'isspace', 'istitle', 'isupper', 'join', 'ljust', 'lower', 'lstrip', 'maketrans', 'partition', 'removeprefix', 'removesuffix', 'replace', 'rfind', 'rindex', 'rjust', 'rpartition', 'rsplit', 'rstrip', 'split', 'splitlines', 'startswith', 'strip', 'swapcase', 'title', 'translate', 'upper', 'zfill']\n"
          ]
        }
      ],
      "source": [
        "print(dir(str))"
      ]
    },
    {
      "cell_type": "code",
      "source": [
        "#Construct of the str\n",
        "\n",
        "str_construct=list(dir(str))"
      ],
      "metadata": {
        "id": "awlEO4kbum7I"
      },
      "execution_count": null,
      "outputs": []
    },
    {
      "cell_type": "code",
      "source": [
        "str_construct"
      ],
      "metadata": {
        "colab": {
          "base_uri": "https://localhost:8080/"
        },
        "id": "Oh6WFlq8vD6R",
        "outputId": "020c74d8-81ba-40cc-eabc-84a4ca6db92a"
      },
      "execution_count": null,
      "outputs": [
        {
          "output_type": "execute_result",
          "data": {
            "text/plain": [
              "['__add__',\n",
              " '__class__',\n",
              " '__contains__',\n",
              " '__delattr__',\n",
              " '__dir__',\n",
              " '__doc__',\n",
              " '__eq__',\n",
              " '__format__',\n",
              " '__ge__',\n",
              " '__getattribute__',\n",
              " '__getitem__',\n",
              " '__getnewargs__',\n",
              " '__gt__',\n",
              " '__hash__',\n",
              " '__init__',\n",
              " '__init_subclass__',\n",
              " '__iter__',\n",
              " '__le__',\n",
              " '__len__',\n",
              " '__lt__',\n",
              " '__mod__',\n",
              " '__mul__',\n",
              " '__ne__',\n",
              " '__new__',\n",
              " '__reduce__',\n",
              " '__reduce_ex__',\n",
              " '__repr__',\n",
              " '__rmod__',\n",
              " '__rmul__',\n",
              " '__setattr__',\n",
              " '__sizeof__',\n",
              " '__str__',\n",
              " '__subclasshook__',\n",
              " 'capitalize',\n",
              " 'casefold',\n",
              " 'center',\n",
              " 'count',\n",
              " 'encode',\n",
              " 'endswith',\n",
              " 'expandtabs',\n",
              " 'find',\n",
              " 'format',\n",
              " 'format_map',\n",
              " 'index',\n",
              " 'isalnum',\n",
              " 'isalpha',\n",
              " 'isascii',\n",
              " 'isdecimal',\n",
              " 'isdigit',\n",
              " 'isidentifier',\n",
              " 'islower',\n",
              " 'isnumeric',\n",
              " 'isprintable',\n",
              " 'isspace',\n",
              " 'istitle',\n",
              " 'isupper',\n",
              " 'join',\n",
              " 'ljust',\n",
              " 'lower',\n",
              " 'lstrip',\n",
              " 'maketrans',\n",
              " 'partition',\n",
              " 'removeprefix',\n",
              " 'removesuffix',\n",
              " 'replace',\n",
              " 'rfind',\n",
              " 'rindex',\n",
              " 'rjust',\n",
              " 'rpartition',\n",
              " 'rsplit',\n",
              " 'rstrip',\n",
              " 'split',\n",
              " 'splitlines',\n",
              " 'startswith',\n",
              " 'strip',\n",
              " 'swapcase',\n",
              " 'title',\n",
              " 'translate',\n",
              " 'upper',\n",
              " 'zfill']"
            ]
          },
          "metadata": {},
          "execution_count": 7
        }
      ]
    },
    {
      "cell_type": "code",
      "source": [
        "mySTR='just Checking, The sting related Functions'"
      ],
      "metadata": {
        "id": "nr41t2pwvGsJ"
      },
      "execution_count": 5,
      "outputs": []
    },
    {
      "cell_type": "code",
      "source": [
        "type(mySTR)"
      ],
      "metadata": {
        "colab": {
          "base_uri": "https://localhost:8080/"
        },
        "id": "B3vmcVC6-Pqg",
        "outputId": "a0d7cb88-5de1-465c-be2c-9f7b44592ddb"
      },
      "execution_count": 3,
      "outputs": [
        {
          "output_type": "execute_result",
          "data": {
            "text/plain": [
              "str"
            ]
          },
          "metadata": {},
          "execution_count": 3
        }
      ]
    },
    {
      "cell_type": "code",
      "source": [
        "mySTR.capitalize()"
      ],
      "metadata": {
        "colab": {
          "base_uri": "https://localhost:8080/",
          "height": 36
        },
        "id": "CbHRbAVv_rgi",
        "outputId": "c764d1db-ecfd-440d-977b-44d3ea93bf57"
      },
      "execution_count": 6,
      "outputs": [
        {
          "output_type": "execute_result",
          "data": {
            "text/plain": [
              "'Just checking, the sting related functions'"
            ],
            "application/vnd.google.colaboratory.intrinsic+json": {
              "type": "string"
            }
          },
          "metadata": {},
          "execution_count": 6
        }
      ]
    },
    {
      "cell_type": "code",
      "source": [
        "mySTR.casefold()"
      ],
      "metadata": {
        "id": "KT17-NEDA4WZ",
        "outputId": "254ca4ed-5c9a-466f-a3fb-465bd883b0ea",
        "colab": {
          "base_uri": "https://localhost:8080/",
          "height": 36
        }
      },
      "execution_count": 7,
      "outputs": [
        {
          "output_type": "execute_result",
          "data": {
            "text/plain": [
              "'just checking, the sting related functions'"
            ],
            "application/vnd.google.colaboratory.intrinsic+json": {
              "type": "string"
            }
          },
          "metadata": {},
          "execution_count": 7
        }
      ]
    },
    {
      "cell_type": "code",
      "source": [
        "mySTR_01=mySTR.center(100,\"@\")"
      ],
      "metadata": {
        "id": "nUVLGCAyBNkd"
      },
      "execution_count": 10,
      "outputs": []
    },
    {
      "cell_type": "code",
      "source": [
        "mySTR_01"
      ],
      "metadata": {
        "id": "AnztnjNdBiFp",
        "outputId": "1c2b38b1-a58d-4742-dd42-d09692b7d932",
        "colab": {
          "base_uri": "https://localhost:8080/",
          "height": 36
        }
      },
      "execution_count": 11,
      "outputs": [
        {
          "output_type": "execute_result",
          "data": {
            "text/plain": [
              "'@@@@@@@@@@@@@@@@@@@@@@@@@@@@@just Checking, The sting related Functions@@@@@@@@@@@@@@@@@@@@@@@@@@@@@'"
            ],
            "application/vnd.google.colaboratory.intrinsic+json": {
              "type": "string"
            }
          },
          "metadata": {},
          "execution_count": 11
        }
      ]
    },
    {
      "cell_type": "code",
      "source": [
        "mySTR_01.count(\"@\")"
      ],
      "metadata": {
        "id": "uR9-v7W2BYpW",
        "outputId": "3886b571-0e97-4633-9885-4d992ce246a2",
        "colab": {
          "base_uri": "https://localhost:8080/"
        }
      },
      "execution_count": 13,
      "outputs": [
        {
          "output_type": "execute_result",
          "data": {
            "text/plain": [
              "58"
            ]
          },
          "metadata": {},
          "execution_count": 13
        }
      ]
    },
    {
      "cell_type": "code",
      "source": [
        "len(mySTR)"
      ],
      "metadata": {
        "id": "EYPSrL-JCI63",
        "outputId": "c3a1a1a5-654c-4601-f815-4527e3513e7a",
        "colab": {
          "base_uri": "https://localhost:8080/"
        }
      },
      "execution_count": 14,
      "outputs": [
        {
          "output_type": "execute_result",
          "data": {
            "text/plain": [
              "42"
            ]
          },
          "metadata": {},
          "execution_count": 14
        }
      ]
    },
    {
      "cell_type": "code",
      "source": [
        "mySTR.encode(),mySTR_01.encode()"
      ],
      "metadata": {
        "id": "se56L385CL94",
        "outputId": "fa76eaf4-e0c5-4426-ead7-1182cbf6c3df",
        "colab": {
          "base_uri": "https://localhost:8080/"
        }
      },
      "execution_count": 15,
      "outputs": [
        {
          "output_type": "execute_result",
          "data": {
            "text/plain": [
              "(b'just Checking, The sting related Functions',\n",
              " b'@@@@@@@@@@@@@@@@@@@@@@@@@@@@@just Checking, The sting related Functions@@@@@@@@@@@@@@@@@@@@@@@@@@@@@')"
            ]
          },
          "metadata": {},
          "execution_count": 15
        }
      ]
    },
    {
      "cell_type": "code",
      "source": [
        "mySTR.encode(encoding='ascii',errors=\"backslashreplace\"),mySTR_01.encode(encoding='ascii',errors=\"backslashreplace\")"
      ],
      "metadata": {
        "id": "ZVwFfHj-D1YR",
        "outputId": "7736c479-0369-4020-e5d5-cd795e9d50f2",
        "colab": {
          "base_uri": "https://localhost:8080/"
        }
      },
      "execution_count": 19,
      "outputs": [
        {
          "output_type": "execute_result",
          "data": {
            "text/plain": [
              "(b'just Checking, The sting related Functions',\n",
              " b'@@@@@@@@@@@@@@@@@@@@@@@@@@@@@just Checking, The sting related Functions@@@@@@@@@@@@@@@@@@@@@@@@@@@@@')"
            ]
          },
          "metadata": {},
          "execution_count": 19
        }
      ]
    },
    {
      "cell_type": "code",
      "source": [
        "# Python encode() function example.\n",
        "# Variable declaration.\n",
        "str = \"HELLO\"\n",
        "encode = str.encode(encoding='UTF-32')\n",
        "# Displaying result.\n",
        "print(\"Old value\", str)\n",
        "print(\"Encoded value\", encode)"
      ],
      "metadata": {
        "id": "CzWUz1xuE7qx",
        "outputId": "3f7c345b-1786-4d25-b59e-f7f13fc2a218",
        "colab": {
          "base_uri": "https://localhost:8080/"
        }
      },
      "execution_count": 26,
      "outputs": [
        {
          "output_type": "stream",
          "name": "stdout",
          "text": [
            "Old value HELLO\n",
            "Encoded value b'\\xff\\xfe\\x00\\x00H\\x00\\x00\\x00E\\x00\\x00\\x00L\\x00\\x00\\x00L\\x00\\x00\\x00O\\x00\\x00\\x00'\n"
          ]
        }
      ]
    },
    {
      "cell_type": "code",
      "source": [
        "mySTR.encode(encoding='utf32',errors=\"ignore\"),mySTR_01.encode(encoding='utf32',errors=\"ignore\")"
      ],
      "metadata": {
        "id": "vk_XfXbfG-K8",
        "outputId": "9c222fed-3f4c-45b9-b66f-153eb2662ce9",
        "colab": {
          "base_uri": "https://localhost:8080/"
        }
      },
      "execution_count": 25,
      "outputs": [
        {
          "output_type": "execute_result",
          "data": {
            "text/plain": [
              "(b'\\xff\\xfe\\x00\\x00j\\x00\\x00\\x00u\\x00\\x00\\x00s\\x00\\x00\\x00t\\x00\\x00\\x00 \\x00\\x00\\x00C\\x00\\x00\\x00h\\x00\\x00\\x00e\\x00\\x00\\x00c\\x00\\x00\\x00k\\x00\\x00\\x00i\\x00\\x00\\x00n\\x00\\x00\\x00g\\x00\\x00\\x00,\\x00\\x00\\x00 \\x00\\x00\\x00T\\x00\\x00\\x00h\\x00\\x00\\x00e\\x00\\x00\\x00 \\x00\\x00\\x00s\\x00\\x00\\x00t\\x00\\x00\\x00i\\x00\\x00\\x00n\\x00\\x00\\x00g\\x00\\x00\\x00 \\x00\\x00\\x00r\\x00\\x00\\x00e\\x00\\x00\\x00l\\x00\\x00\\x00a\\x00\\x00\\x00t\\x00\\x00\\x00e\\x00\\x00\\x00d\\x00\\x00\\x00 \\x00\\x00\\x00F\\x00\\x00\\x00u\\x00\\x00\\x00n\\x00\\x00\\x00c\\x00\\x00\\x00t\\x00\\x00\\x00i\\x00\\x00\\x00o\\x00\\x00\\x00n\\x00\\x00\\x00s\\x00\\x00\\x00',\n",
              " b'\\xff\\xfe\\x00\\x00@\\x00\\x00\\x00@\\x00\\x00\\x00@\\x00\\x00\\x00@\\x00\\x00\\x00@\\x00\\x00\\x00@\\x00\\x00\\x00@\\x00\\x00\\x00@\\x00\\x00\\x00@\\x00\\x00\\x00@\\x00\\x00\\x00@\\x00\\x00\\x00@\\x00\\x00\\x00@\\x00\\x00\\x00@\\x00\\x00\\x00@\\x00\\x00\\x00@\\x00\\x00\\x00@\\x00\\x00\\x00@\\x00\\x00\\x00@\\x00\\x00\\x00@\\x00\\x00\\x00@\\x00\\x00\\x00@\\x00\\x00\\x00@\\x00\\x00\\x00@\\x00\\x00\\x00@\\x00\\x00\\x00@\\x00\\x00\\x00@\\x00\\x00\\x00@\\x00\\x00\\x00@\\x00\\x00\\x00j\\x00\\x00\\x00u\\x00\\x00\\x00s\\x00\\x00\\x00t\\x00\\x00\\x00 \\x00\\x00\\x00C\\x00\\x00\\x00h\\x00\\x00\\x00e\\x00\\x00\\x00c\\x00\\x00\\x00k\\x00\\x00\\x00i\\x00\\x00\\x00n\\x00\\x00\\x00g\\x00\\x00\\x00,\\x00\\x00\\x00 \\x00\\x00\\x00T\\x00\\x00\\x00h\\x00\\x00\\x00e\\x00\\x00\\x00 \\x00\\x00\\x00s\\x00\\x00\\x00t\\x00\\x00\\x00i\\x00\\x00\\x00n\\x00\\x00\\x00g\\x00\\x00\\x00 \\x00\\x00\\x00r\\x00\\x00\\x00e\\x00\\x00\\x00l\\x00\\x00\\x00a\\x00\\x00\\x00t\\x00\\x00\\x00e\\x00\\x00\\x00d\\x00\\x00\\x00 \\x00\\x00\\x00F\\x00\\x00\\x00u\\x00\\x00\\x00n\\x00\\x00\\x00c\\x00\\x00\\x00t\\x00\\x00\\x00i\\x00\\x00\\x00o\\x00\\x00\\x00n\\x00\\x00\\x00s\\x00\\x00\\x00@\\x00\\x00\\x00@\\x00\\x00\\x00@\\x00\\x00\\x00@\\x00\\x00\\x00@\\x00\\x00\\x00@\\x00\\x00\\x00@\\x00\\x00\\x00@\\x00\\x00\\x00@\\x00\\x00\\x00@\\x00\\x00\\x00@\\x00\\x00\\x00@\\x00\\x00\\x00@\\x00\\x00\\x00@\\x00\\x00\\x00@\\x00\\x00\\x00@\\x00\\x00\\x00@\\x00\\x00\\x00@\\x00\\x00\\x00@\\x00\\x00\\x00@\\x00\\x00\\x00@\\x00\\x00\\x00@\\x00\\x00\\x00@\\x00\\x00\\x00@\\x00\\x00\\x00@\\x00\\x00\\x00@\\x00\\x00\\x00@\\x00\\x00\\x00@\\x00\\x00\\x00@\\x00\\x00\\x00')"
            ]
          },
          "metadata": {},
          "execution_count": 25
        }
      ]
    },
    {
      "cell_type": "code",
      "source": [
        "mySTR.endswith('.')"
      ],
      "metadata": {
        "id": "-NN6M44fHzuj",
        "outputId": "ae40bbb8-56b0-4368-e5c1-9120b9ed2d9e",
        "colab": {
          "base_uri": "https://localhost:8080/"
        }
      },
      "execution_count": 27,
      "outputs": [
        {
          "output_type": "execute_result",
          "data": {
            "text/plain": [
              "False"
            ]
          },
          "metadata": {},
          "execution_count": 27
        }
      ]
    },
    {
      "cell_type": "code",
      "source": [
        "mySTR_01.endswith('@')"
      ],
      "metadata": {
        "id": "MiP-NTmMIoml",
        "outputId": "5f84fc6d-4d71-42fe-b2d2-ea6bac95fe5e",
        "colab": {
          "base_uri": "https://localhost:8080/"
        }
      },
      "execution_count": 28,
      "outputs": [
        {
          "output_type": "execute_result",
          "data": {
            "text/plain": [
              "True"
            ]
          },
          "metadata": {},
          "execution_count": 28
        }
      ]
    },
    {
      "cell_type": "code",
      "source": [
        "mySTR_01,mySTR_01.expandtabs(10)"
      ],
      "metadata": {
        "id": "nnm3v3rTI269",
        "outputId": "1a1211cb-9a12-4e60-a536-1b1edda9dd0f",
        "colab": {
          "base_uri": "https://localhost:8080/"
        }
      },
      "execution_count": 34,
      "outputs": [
        {
          "output_type": "execute_result",
          "data": {
            "text/plain": [
              "('@@@@@@@@@@@@@@@@@@@@@@@@@@@@@just Checking, The sting related Functions@@@@@@@@@@@@@@@@@@@@@@@@@@@@@',\n",
              " '@@@@@@@@@@@@@@@@@@@@@@@@@@@@@just Checking, The sting related Functions@@@@@@@@@@@@@@@@@@@@@@@@@@@@@')"
            ]
          },
          "metadata": {},
          "execution_count": 34
        }
      ]
    },
    {
      "cell_type": "code",
      "source": [
        "mySTR_02='H\\tE\\tL\\tL\\tO'"
      ],
      "metadata": {
        "id": "mwfDC1i8Jzzv"
      },
      "execution_count": 42,
      "outputs": []
    },
    {
      "cell_type": "code",
      "source": [
        "mySTR_02"
      ],
      "metadata": {
        "id": "LyBr4XRlKBjt",
        "outputId": "5123026d-8d91-440b-bf0b-cc05bfd48866",
        "colab": {
          "base_uri": "https://localhost:8080/",
          "height": 36
        }
      },
      "execution_count": 43,
      "outputs": [
        {
          "output_type": "execute_result",
          "data": {
            "text/plain": [
              "'H\\tE\\tL\\tL\\tO'"
            ],
            "application/vnd.google.colaboratory.intrinsic+json": {
              "type": "string"
            }
          },
          "metadata": {},
          "execution_count": 43
        }
      ]
    },
    {
      "cell_type": "code",
      "source": [
        "mySTR_02,mySTR_02.expandtabs(5)"
      ],
      "metadata": {
        "id": "oKLFAoG1KFEc",
        "outputId": "a0607400-d19c-4d9a-9dae-93ddf3ac9758",
        "colab": {
          "base_uri": "https://localhost:8080/"
        }
      },
      "execution_count": 46,
      "outputs": [
        {
          "output_type": "execute_result",
          "data": {
            "text/plain": [
              "('H\\tE\\tL\\tL\\tO', 'H    E    L    L    O')"
            ]
          },
          "metadata": {},
          "execution_count": 46
        }
      ]
    },
    {
      "cell_type": "code",
      "source": [
        "print(len(mySTR_02),len(mySTR_02.expandtabs(5)))"
      ],
      "metadata": {
        "id": "ebc7frE5Kuh4",
        "outputId": "dbf5eebf-6fcf-49ab-ddd9-d2b2ed601a97",
        "colab": {
          "base_uri": "https://localhost:8080/"
        }
      },
      "execution_count": 48,
      "outputs": [
        {
          "output_type": "execute_result",
          "data": {
            "text/plain": [
              "(9, 21)"
            ]
          },
          "metadata": {},
          "execution_count": 47
        },
        {
          "output_type": "stream",
          "name": "stdout",
          "text": [
            "9 21\n"
          ]
        }
      ]
    },
    {
      "cell_type": "code",
      "source": [
        "mySTR_02.find('\\t')"
      ],
      "metadata": {
        "id": "vObHFRJ-LJMM",
        "outputId": "170c94a7-439b-4602-a5d7-c550c669bb2f",
        "colab": {
          "base_uri": "https://localhost:8080/"
        }
      },
      "execution_count": 49,
      "outputs": [
        {
          "output_type": "execute_result",
          "data": {
            "text/plain": [
              "1"
            ]
          },
          "metadata": {},
          "execution_count": 49
        }
      ]
    },
    {
      "cell_type": "code",
      "source": [],
      "metadata": {
        "id": "QuoIXO5dLoSW"
      },
      "execution_count": null,
      "outputs": []
    },
    {
      "cell_type": "code",
      "source": [],
      "metadata": {
        "id": "5BOicocwK5dL"
      },
      "execution_count": null,
      "outputs": []
    },
    {
      "cell_type": "code",
      "source": [],
      "metadata": {
        "id": "wqy8wsXTKqe2"
      },
      "execution_count": null,
      "outputs": []
    },
    {
      "cell_type": "code",
      "source": [],
      "metadata": {
        "id": "Pf8nQNTvKYSE"
      },
      "execution_count": null,
      "outputs": []
    },
    {
      "cell_type": "code",
      "source": [],
      "metadata": {
        "id": "EGIBrBg1KK4y"
      },
      "execution_count": null,
      "outputs": []
    },
    {
      "cell_type": "code",
      "source": [],
      "metadata": {
        "id": "afx227YmKDa_"
      },
      "execution_count": null,
      "outputs": []
    },
    {
      "cell_type": "code",
      "source": [],
      "metadata": {
        "id": "WSD7yMD5Jtjl"
      },
      "execution_count": null,
      "outputs": []
    },
    {
      "cell_type": "code",
      "source": [],
      "metadata": {
        "id": "p3KedtuXJrJw"
      },
      "execution_count": null,
      "outputs": []
    },
    {
      "cell_type": "code",
      "source": [],
      "metadata": {
        "id": "qsOa-EILJolI"
      },
      "execution_count": null,
      "outputs": []
    },
    {
      "cell_type": "code",
      "source": [],
      "metadata": {
        "id": "1GaVVuIxJgQs"
      },
      "execution_count": null,
      "outputs": []
    },
    {
      "cell_type": "code",
      "source": [],
      "metadata": {
        "id": "Vvc9Kt9gJb2s"
      },
      "execution_count": null,
      "outputs": []
    },
    {
      "cell_type": "code",
      "source": [],
      "metadata": {
        "id": "d8x7EOMFHuva"
      },
      "execution_count": null,
      "outputs": []
    },
    {
      "cell_type": "code",
      "source": [],
      "metadata": {
        "id": "OLIV1PHOHoMR"
      },
      "execution_count": null,
      "outputs": []
    },
    {
      "cell_type": "code",
      "source": [],
      "metadata": {
        "id": "HsbISDeZGlaz"
      },
      "execution_count": null,
      "outputs": []
    },
    {
      "cell_type": "code",
      "source": [],
      "metadata": {
        "id": "koICRGqVEcPR"
      },
      "execution_count": null,
      "outputs": []
    },
    {
      "cell_type": "code",
      "source": [],
      "metadata": {
        "id": "hPE4zUGwEWzw"
      },
      "execution_count": null,
      "outputs": []
    },
    {
      "cell_type": "code",
      "source": [],
      "metadata": {
        "id": "NdY9HRgHENvz"
      },
      "execution_count": null,
      "outputs": []
    },
    {
      "cell_type": "code",
      "source": [],
      "metadata": {
        "id": "yNJ-KNkDBVDX"
      },
      "execution_count": null,
      "outputs": []
    },
    {
      "cell_type": "code",
      "source": [],
      "metadata": {
        "id": "oxmjM6My-3gu"
      },
      "execution_count": null,
      "outputs": []
    },
    {
      "cell_type": "code",
      "source": [],
      "metadata": {
        "id": "tZI0-C4Nuw11"
      },
      "execution_count": null,
      "outputs": []
    },
    {
      "cell_type": "code",
      "source": [],
      "metadata": {
        "id": "ktGVc0CNuejt"
      },
      "execution_count": null,
      "outputs": []
    },
    {
      "cell_type": "code",
      "source": [],
      "metadata": {
        "id": "6yf5j2SPucNG"
      },
      "execution_count": null,
      "outputs": []
    },
    {
      "cell_type": "code",
      "source": [],
      "metadata": {
        "id": "0CuJv8fQuUc4"
      },
      "execution_count": null,
      "outputs": []
    }
  ]
}