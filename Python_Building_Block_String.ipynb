{
  "nbformat": 4,
  "nbformat_minor": 0,
  "metadata": {
    "colab": {
      "provenance": [],
      "toc_visible": true,
      "authorship_tag": "ABX9TyNgrQMJW5I+WtMeVsBFNjeE",
      "include_colab_link": true
    },
    "kernelspec": {
      "name": "python3",
      "display_name": "Python 3"
    },
    "language_info": {
      "name": "python"
    }
  },
  "cells": [
    {
      "cell_type": "markdown",
      "metadata": {
        "id": "view-in-github",
        "colab_type": "text"
      },
      "source": [
        "<a href=\"https://colab.research.google.com/github/Shivang-Quantum/QuantaPytha/blob/Building_Blocks/Python_Building_Block_String.ipynb\" target=\"_parent\"><img src=\"https://colab.research.google.com/assets/colab-badge.svg\" alt=\"Open In Colab\"/></a>"
      ]
    },
    {
      "cell_type": "code",
      "execution_count": null,
      "metadata": {
        "id": "xRFS_9SRkyd3",
        "colab": {
          "base_uri": "https://localhost:8080/"
        },
        "outputId": "c34e60be-8d52-4c10-88d3-381f0a97898c"
      },
      "outputs": [
        {
          "output_type": "stream",
          "name": "stdout",
          "text": [
            "['__add__', '__class__', '__contains__', '__delattr__', '__dir__', '__doc__', '__eq__', '__format__', '__ge__', '__getattribute__', '__getitem__', '__getnewargs__', '__gt__', '__hash__', '__init__', '__init_subclass__', '__iter__', '__le__', '__len__', '__lt__', '__mod__', '__mul__', '__ne__', '__new__', '__reduce__', '__reduce_ex__', '__repr__', '__rmod__', '__rmul__', '__setattr__', '__sizeof__', '__str__', '__subclasshook__', 'capitalize', 'casefold', 'center', 'count', 'encode', 'endswith', 'expandtabs', 'find', 'format', 'format_map', 'index', 'isalnum', 'isalpha', 'isascii', 'isdecimal', 'isdigit', 'isidentifier', 'islower', 'isnumeric', 'isprintable', 'isspace', 'istitle', 'isupper', 'join', 'ljust', 'lower', 'lstrip', 'maketrans', 'partition', 'removeprefix', 'removesuffix', 'replace', 'rfind', 'rindex', 'rjust', 'rpartition', 'rsplit', 'rstrip', 'split', 'splitlines', 'startswith', 'strip', 'swapcase', 'title', 'translate', 'upper', 'zfill']\n"
          ]
        }
      ],
      "source": [
        "print(dir(str))"
      ]
    },
    {
      "cell_type": "code",
      "source": [
        "#Construct of the str\n",
        "\n",
        "str_construct=list(dir(str))"
      ],
      "metadata": {
        "id": "awlEO4kbum7I"
      },
      "execution_count": null,
      "outputs": []
    },
    {
      "cell_type": "code",
      "source": [
        "str_construct"
      ],
      "metadata": {
        "colab": {
          "base_uri": "https://localhost:8080/"
        },
        "id": "Oh6WFlq8vD6R",
        "outputId": "020c74d8-81ba-40cc-eabc-84a4ca6db92a"
      },
      "execution_count": null,
      "outputs": [
        {
          "output_type": "execute_result",
          "data": {
            "text/plain": [
              "['__add__',\n",
              " '__class__',\n",
              " '__contains__',\n",
              " '__delattr__',\n",
              " '__dir__',\n",
              " '__doc__',\n",
              " '__eq__',\n",
              " '__format__',\n",
              " '__ge__',\n",
              " '__getattribute__',\n",
              " '__getitem__',\n",
              " '__getnewargs__',\n",
              " '__gt__',\n",
              " '__hash__',\n",
              " '__init__',\n",
              " '__init_subclass__',\n",
              " '__iter__',\n",
              " '__le__',\n",
              " '__len__',\n",
              " '__lt__',\n",
              " '__mod__',\n",
              " '__mul__',\n",
              " '__ne__',\n",
              " '__new__',\n",
              " '__reduce__',\n",
              " '__reduce_ex__',\n",
              " '__repr__',\n",
              " '__rmod__',\n",
              " '__rmul__',\n",
              " '__setattr__',\n",
              " '__sizeof__',\n",
              " '__str__',\n",
              " '__subclasshook__',\n",
              " 'capitalize',\n",
              " 'casefold',\n",
              " 'center',\n",
              " 'count',\n",
              " 'encode',\n",
              " 'endswith',\n",
              " 'expandtabs',\n",
              " 'find',\n",
              " 'format',\n",
              " 'format_map',\n",
              " 'index',\n",
              " 'isalnum',\n",
              " 'isalpha',\n",
              " 'isascii',\n",
              " 'isdecimal',\n",
              " 'isdigit',\n",
              " 'isidentifier',\n",
              " 'islower',\n",
              " 'isnumeric',\n",
              " 'isprintable',\n",
              " 'isspace',\n",
              " 'istitle',\n",
              " 'isupper',\n",
              " 'join',\n",
              " 'ljust',\n",
              " 'lower',\n",
              " 'lstrip',\n",
              " 'maketrans',\n",
              " 'partition',\n",
              " 'removeprefix',\n",
              " 'removesuffix',\n",
              " 'replace',\n",
              " 'rfind',\n",
              " 'rindex',\n",
              " 'rjust',\n",
              " 'rpartition',\n",
              " 'rsplit',\n",
              " 'rstrip',\n",
              " 'split',\n",
              " 'splitlines',\n",
              " 'startswith',\n",
              " 'strip',\n",
              " 'swapcase',\n",
              " 'title',\n",
              " 'translate',\n",
              " 'upper',\n",
              " 'zfill']"
            ]
          },
          "metadata": {},
          "execution_count": 7
        }
      ]
    },
    {
      "cell_type": "code",
      "source": [
        "mySTR='just Checking, The sting related Functions'"
      ],
      "metadata": {
        "id": "nr41t2pwvGsJ"
      },
      "execution_count": null,
      "outputs": []
    },
    {
      "cell_type": "code",
      "source": [
        "type(mySTR)"
      ],
      "metadata": {
        "colab": {
          "base_uri": "https://localhost:8080/"
        },
        "id": "B3vmcVC6-Pqg",
        "outputId": "a0d7cb88-5de1-465c-be2c-9f7b44592ddb"
      },
      "execution_count": null,
      "outputs": [
        {
          "output_type": "execute_result",
          "data": {
            "text/plain": [
              "str"
            ]
          },
          "metadata": {},
          "execution_count": 3
        }
      ]
    },
    {
      "cell_type": "code",
      "source": [
        "mySTR.capitalize()"
      ],
      "metadata": {
        "colab": {
          "base_uri": "https://localhost:8080/",
          "height": 36
        },
        "id": "CbHRbAVv_rgi",
        "outputId": "c764d1db-ecfd-440d-977b-44d3ea93bf57"
      },
      "execution_count": null,
      "outputs": [
        {
          "output_type": "execute_result",
          "data": {
            "text/plain": [
              "'Just checking, the sting related functions'"
            ],
            "application/vnd.google.colaboratory.intrinsic+json": {
              "type": "string"
            }
          },
          "metadata": {},
          "execution_count": 6
        }
      ]
    },
    {
      "cell_type": "code",
      "source": [
        "mySTR.casefold()"
      ],
      "metadata": {
        "id": "KT17-NEDA4WZ",
        "outputId": "254ca4ed-5c9a-466f-a3fb-465bd883b0ea",
        "colab": {
          "base_uri": "https://localhost:8080/",
          "height": 36
        }
      },
      "execution_count": null,
      "outputs": [
        {
          "output_type": "execute_result",
          "data": {
            "text/plain": [
              "'just checking, the sting related functions'"
            ],
            "application/vnd.google.colaboratory.intrinsic+json": {
              "type": "string"
            }
          },
          "metadata": {},
          "execution_count": 7
        }
      ]
    },
    {
      "cell_type": "code",
      "source": [
        "mySTR_01=mySTR.center(100,\"@\")"
      ],
      "metadata": {
        "id": "nUVLGCAyBNkd"
      },
      "execution_count": null,
      "outputs": []
    },
    {
      "cell_type": "code",
      "source": [
        "mySTR_01"
      ],
      "metadata": {
        "id": "AnztnjNdBiFp",
        "outputId": "1c2b38b1-a58d-4742-dd42-d09692b7d932",
        "colab": {
          "base_uri": "https://localhost:8080/",
          "height": 36
        }
      },
      "execution_count": null,
      "outputs": [
        {
          "output_type": "execute_result",
          "data": {
            "text/plain": [
              "'@@@@@@@@@@@@@@@@@@@@@@@@@@@@@just Checking, The sting related Functions@@@@@@@@@@@@@@@@@@@@@@@@@@@@@'"
            ],
            "application/vnd.google.colaboratory.intrinsic+json": {
              "type": "string"
            }
          },
          "metadata": {},
          "execution_count": 11
        }
      ]
    },
    {
      "cell_type": "code",
      "source": [
        "mySTR_01.count(\"@\")"
      ],
      "metadata": {
        "id": "uR9-v7W2BYpW",
        "outputId": "3886b571-0e97-4633-9885-4d992ce246a2",
        "colab": {
          "base_uri": "https://localhost:8080/"
        }
      },
      "execution_count": null,
      "outputs": [
        {
          "output_type": "execute_result",
          "data": {
            "text/plain": [
              "58"
            ]
          },
          "metadata": {},
          "execution_count": 13
        }
      ]
    },
    {
      "cell_type": "code",
      "source": [
        "len(mySTR)"
      ],
      "metadata": {
        "id": "EYPSrL-JCI63",
        "outputId": "c3a1a1a5-654c-4601-f815-4527e3513e7a",
        "colab": {
          "base_uri": "https://localhost:8080/"
        }
      },
      "execution_count": null,
      "outputs": [
        {
          "output_type": "execute_result",
          "data": {
            "text/plain": [
              "42"
            ]
          },
          "metadata": {},
          "execution_count": 14
        }
      ]
    },
    {
      "cell_type": "code",
      "source": [
        "mySTR.encode(),mySTR_01.encode()"
      ],
      "metadata": {
        "id": "se56L385CL94",
        "outputId": "fa76eaf4-e0c5-4426-ead7-1182cbf6c3df",
        "colab": {
          "base_uri": "https://localhost:8080/"
        }
      },
      "execution_count": null,
      "outputs": [
        {
          "output_type": "execute_result",
          "data": {
            "text/plain": [
              "(b'just Checking, The sting related Functions',\n",
              " b'@@@@@@@@@@@@@@@@@@@@@@@@@@@@@just Checking, The sting related Functions@@@@@@@@@@@@@@@@@@@@@@@@@@@@@')"
            ]
          },
          "metadata": {},
          "execution_count": 15
        }
      ]
    },
    {
      "cell_type": "code",
      "source": [
        "mySTR.encode(encoding='ascii',errors=\"backslashreplace\"),mySTR_01.encode(encoding='ascii',errors=\"backslashreplace\")"
      ],
      "metadata": {
        "id": "ZVwFfHj-D1YR",
        "outputId": "7736c479-0369-4020-e5d5-cd795e9d50f2",
        "colab": {
          "base_uri": "https://localhost:8080/"
        }
      },
      "execution_count": null,
      "outputs": [
        {
          "output_type": "execute_result",
          "data": {
            "text/plain": [
              "(b'just Checking, The sting related Functions',\n",
              " b'@@@@@@@@@@@@@@@@@@@@@@@@@@@@@just Checking, The sting related Functions@@@@@@@@@@@@@@@@@@@@@@@@@@@@@')"
            ]
          },
          "metadata": {},
          "execution_count": 19
        }
      ]
    },
    {
      "cell_type": "code",
      "source": [
        "# Python encode() function example.\n",
        "# Variable declaration.\n",
        "str = \"HELLO\"\n",
        "encode = str.encode(encoding='UTF-32')\n",
        "# Displaying result.\n",
        "print(\"Old value\", str)\n",
        "print(\"Encoded value\", encode)"
      ],
      "metadata": {
        "id": "CzWUz1xuE7qx",
        "outputId": "3f7c345b-1786-4d25-b59e-f7f13fc2a218",
        "colab": {
          "base_uri": "https://localhost:8080/"
        }
      },
      "execution_count": null,
      "outputs": [
        {
          "output_type": "stream",
          "name": "stdout",
          "text": [
            "Old value HELLO\n",
            "Encoded value b'\\xff\\xfe\\x00\\x00H\\x00\\x00\\x00E\\x00\\x00\\x00L\\x00\\x00\\x00L\\x00\\x00\\x00O\\x00\\x00\\x00'\n"
          ]
        }
      ]
    },
    {
      "cell_type": "code",
      "source": [
        "mySTR.encode(encoding='utf32',errors=\"ignore\"),mySTR_01.encode(encoding='utf32',errors=\"ignore\")"
      ],
      "metadata": {
        "id": "vk_XfXbfG-K8",
        "outputId": "9c222fed-3f4c-45b9-b66f-153eb2662ce9",
        "colab": {
          "base_uri": "https://localhost:8080/"
        }
      },
      "execution_count": null,
      "outputs": [
        {
          "output_type": "execute_result",
          "data": {
            "text/plain": [
              "(b'\\xff\\xfe\\x00\\x00j\\x00\\x00\\x00u\\x00\\x00\\x00s\\x00\\x00\\x00t\\x00\\x00\\x00 \\x00\\x00\\x00C\\x00\\x00\\x00h\\x00\\x00\\x00e\\x00\\x00\\x00c\\x00\\x00\\x00k\\x00\\x00\\x00i\\x00\\x00\\x00n\\x00\\x00\\x00g\\x00\\x00\\x00,\\x00\\x00\\x00 \\x00\\x00\\x00T\\x00\\x00\\x00h\\x00\\x00\\x00e\\x00\\x00\\x00 \\x00\\x00\\x00s\\x00\\x00\\x00t\\x00\\x00\\x00i\\x00\\x00\\x00n\\x00\\x00\\x00g\\x00\\x00\\x00 \\x00\\x00\\x00r\\x00\\x00\\x00e\\x00\\x00\\x00l\\x00\\x00\\x00a\\x00\\x00\\x00t\\x00\\x00\\x00e\\x00\\x00\\x00d\\x00\\x00\\x00 \\x00\\x00\\x00F\\x00\\x00\\x00u\\x00\\x00\\x00n\\x00\\x00\\x00c\\x00\\x00\\x00t\\x00\\x00\\x00i\\x00\\x00\\x00o\\x00\\x00\\x00n\\x00\\x00\\x00s\\x00\\x00\\x00',\n",
              " b'\\xff\\xfe\\x00\\x00@\\x00\\x00\\x00@\\x00\\x00\\x00@\\x00\\x00\\x00@\\x00\\x00\\x00@\\x00\\x00\\x00@\\x00\\x00\\x00@\\x00\\x00\\x00@\\x00\\x00\\x00@\\x00\\x00\\x00@\\x00\\x00\\x00@\\x00\\x00\\x00@\\x00\\x00\\x00@\\x00\\x00\\x00@\\x00\\x00\\x00@\\x00\\x00\\x00@\\x00\\x00\\x00@\\x00\\x00\\x00@\\x00\\x00\\x00@\\x00\\x00\\x00@\\x00\\x00\\x00@\\x00\\x00\\x00@\\x00\\x00\\x00@\\x00\\x00\\x00@\\x00\\x00\\x00@\\x00\\x00\\x00@\\x00\\x00\\x00@\\x00\\x00\\x00@\\x00\\x00\\x00@\\x00\\x00\\x00j\\x00\\x00\\x00u\\x00\\x00\\x00s\\x00\\x00\\x00t\\x00\\x00\\x00 \\x00\\x00\\x00C\\x00\\x00\\x00h\\x00\\x00\\x00e\\x00\\x00\\x00c\\x00\\x00\\x00k\\x00\\x00\\x00i\\x00\\x00\\x00n\\x00\\x00\\x00g\\x00\\x00\\x00,\\x00\\x00\\x00 \\x00\\x00\\x00T\\x00\\x00\\x00h\\x00\\x00\\x00e\\x00\\x00\\x00 \\x00\\x00\\x00s\\x00\\x00\\x00t\\x00\\x00\\x00i\\x00\\x00\\x00n\\x00\\x00\\x00g\\x00\\x00\\x00 \\x00\\x00\\x00r\\x00\\x00\\x00e\\x00\\x00\\x00l\\x00\\x00\\x00a\\x00\\x00\\x00t\\x00\\x00\\x00e\\x00\\x00\\x00d\\x00\\x00\\x00 \\x00\\x00\\x00F\\x00\\x00\\x00u\\x00\\x00\\x00n\\x00\\x00\\x00c\\x00\\x00\\x00t\\x00\\x00\\x00i\\x00\\x00\\x00o\\x00\\x00\\x00n\\x00\\x00\\x00s\\x00\\x00\\x00@\\x00\\x00\\x00@\\x00\\x00\\x00@\\x00\\x00\\x00@\\x00\\x00\\x00@\\x00\\x00\\x00@\\x00\\x00\\x00@\\x00\\x00\\x00@\\x00\\x00\\x00@\\x00\\x00\\x00@\\x00\\x00\\x00@\\x00\\x00\\x00@\\x00\\x00\\x00@\\x00\\x00\\x00@\\x00\\x00\\x00@\\x00\\x00\\x00@\\x00\\x00\\x00@\\x00\\x00\\x00@\\x00\\x00\\x00@\\x00\\x00\\x00@\\x00\\x00\\x00@\\x00\\x00\\x00@\\x00\\x00\\x00@\\x00\\x00\\x00@\\x00\\x00\\x00@\\x00\\x00\\x00@\\x00\\x00\\x00@\\x00\\x00\\x00@\\x00\\x00\\x00@\\x00\\x00\\x00')"
            ]
          },
          "metadata": {},
          "execution_count": 25
        }
      ]
    },
    {
      "cell_type": "code",
      "source": [
        "mySTR.endswith('.')"
      ],
      "metadata": {
        "id": "-NN6M44fHzuj",
        "outputId": "ae40bbb8-56b0-4368-e5c1-9120b9ed2d9e",
        "colab": {
          "base_uri": "https://localhost:8080/"
        }
      },
      "execution_count": null,
      "outputs": [
        {
          "output_type": "execute_result",
          "data": {
            "text/plain": [
              "False"
            ]
          },
          "metadata": {},
          "execution_count": 27
        }
      ]
    },
    {
      "cell_type": "code",
      "source": [
        "mySTR_01.endswith('@')"
      ],
      "metadata": {
        "id": "MiP-NTmMIoml",
        "outputId": "5f84fc6d-4d71-42fe-b2d2-ea6bac95fe5e",
        "colab": {
          "base_uri": "https://localhost:8080/"
        }
      },
      "execution_count": null,
      "outputs": [
        {
          "output_type": "execute_result",
          "data": {
            "text/plain": [
              "True"
            ]
          },
          "metadata": {},
          "execution_count": 28
        }
      ]
    },
    {
      "cell_type": "code",
      "source": [
        "mySTR_01,mySTR_01.expandtabs(10)"
      ],
      "metadata": {
        "id": "nnm3v3rTI269",
        "outputId": "1a1211cb-9a12-4e60-a536-1b1edda9dd0f",
        "colab": {
          "base_uri": "https://localhost:8080/"
        }
      },
      "execution_count": null,
      "outputs": [
        {
          "output_type": "execute_result",
          "data": {
            "text/plain": [
              "('@@@@@@@@@@@@@@@@@@@@@@@@@@@@@just Checking, The sting related Functions@@@@@@@@@@@@@@@@@@@@@@@@@@@@@',\n",
              " '@@@@@@@@@@@@@@@@@@@@@@@@@@@@@just Checking, The sting related Functions@@@@@@@@@@@@@@@@@@@@@@@@@@@@@')"
            ]
          },
          "metadata": {},
          "execution_count": 34
        }
      ]
    },
    {
      "cell_type": "code",
      "source": [
        "mySTR_02=\"H\\tE\\tL\\tL\\tO\""
      ],
      "metadata": {
        "id": "mwfDC1i8Jzzv"
      },
      "execution_count": null,
      "outputs": []
    },
    {
      "cell_type": "code",
      "source": [
        "mySTR_02"
      ],
      "metadata": {
        "id": "LyBr4XRlKBjt",
        "outputId": "5123026d-8d91-440b-bf0b-cc05bfd48866",
        "colab": {
          "base_uri": "https://localhost:8080/",
          "height": 36
        }
      },
      "execution_count": null,
      "outputs": [
        {
          "output_type": "execute_result",
          "data": {
            "text/plain": [
              "'H\\tE\\tL\\tL\\tO'"
            ],
            "application/vnd.google.colaboratory.intrinsic+json": {
              "type": "string"
            }
          },
          "metadata": {},
          "execution_count": 43
        }
      ]
    },
    {
      "cell_type": "code",
      "source": [
        "mySTR_02,mySTR_02.expandtabs(5)"
      ],
      "metadata": {
        "id": "oKLFAoG1KFEc",
        "outputId": "a22e82d3-7d43-4b87-a96a-214f018c0c78",
        "colab": {
          "base_uri": "https://localhost:8080/"
        }
      },
      "execution_count": null,
      "outputs": [
        {
          "output_type": "execute_result",
          "data": {
            "text/plain": [
              "('H\\tE\\tL\\tL\\tO', 'H    E    L    L    O')"
            ]
          },
          "metadata": {},
          "execution_count": 4
        }
      ]
    },
    {
      "cell_type": "code",
      "source": [
        "print(len(mySTR_02),len(mySTR_02.expandtabs(5)))"
      ],
      "metadata": {
        "id": "ebc7frE5Kuh4",
        "outputId": "dbf5eebf-6fcf-49ab-ddd9-d2b2ed601a97",
        "colab": {
          "base_uri": "https://localhost:8080/"
        }
      },
      "execution_count": null,
      "outputs": [
        {
          "output_type": "execute_result",
          "data": {
            "text/plain": [
              "(9, 21)"
            ]
          },
          "metadata": {},
          "execution_count": 47
        },
        {
          "output_type": "stream",
          "name": "stdout",
          "text": [
            "9 21\n"
          ]
        }
      ]
    },
    {
      "cell_type": "code",
      "source": [
        "mySTR_02.find('\\t')"
      ],
      "metadata": {
        "id": "vObHFRJ-LJMM",
        "outputId": "170c94a7-439b-4602-a5d7-c550c669bb2f",
        "colab": {
          "base_uri": "https://localhost:8080/"
        }
      },
      "execution_count": null,
      "outputs": [
        {
          "output_type": "execute_result",
          "data": {
            "text/plain": [
              "1"
            ]
          },
          "metadata": {},
          "execution_count": 49
        }
      ]
    },
    {
      "cell_type": "code",
      "source": [
        "mySTR_01.find('z')"
      ],
      "metadata": {
        "id": "QuoIXO5dLoSW",
        "colab": {
          "base_uri": "https://localhost:8080/"
        },
        "outputId": "e8ebaf2f-b712-43fd-f90e-8285c866abbf"
      },
      "execution_count": null,
      "outputs": [
        {
          "output_type": "execute_result",
          "data": {
            "text/plain": [
              "-1"
            ]
          },
          "metadata": {},
          "execution_count": 5
        }
      ]
    },
    {
      "cell_type": "code",
      "source": [
        "mySTR_02.find('@',0,len(mySTR_02))"
      ],
      "metadata": {
        "colab": {
          "base_uri": "https://localhost:8080/"
        },
        "id": "6h-LIZ4txMWH",
        "outputId": "44b696a5-7c98-4d72-d7c0-a517ffc78640"
      },
      "execution_count": null,
      "outputs": [
        {
          "output_type": "execute_result",
          "data": {
            "text/plain": [
              "-1"
            ]
          },
          "metadata": {},
          "execution_count": 6
        }
      ]
    },
    {
      "cell_type": "code",
      "source": [
        "mySTR_01.find('@',-70,len(mySTR_01))"
      ],
      "metadata": {
        "colab": {
          "base_uri": "https://localhost:8080/"
        },
        "id": "OWmfloSCxYQ1",
        "outputId": "d1562702-0291-440f-8ec2-c37f01198078"
      },
      "execution_count": null,
      "outputs": [
        {
          "output_type": "execute_result",
          "data": {
            "text/plain": [
              "71"
            ]
          },
          "metadata": {},
          "execution_count": 13
        }
      ]
    },
    {
      "cell_type": "code",
      "source": [
        "\"Hi I need {a} and {b} for using format function\".format(a=\"to practice\",b=\"have correct understanding\")"
      ],
      "metadata": {
        "colab": {
          "base_uri": "https://localhost:8080/",
          "height": 36
        },
        "id": "n0wNuWEqxpL3",
        "outputId": "a0a5cb6d-2599-4132-9279-353b4d53ed63"
      },
      "execution_count": null,
      "outputs": [
        {
          "output_type": "execute_result",
          "data": {
            "text/plain": [
              "'Hi I need to practice and correct understanding for using format function'"
            ],
            "application/vnd.google.colaboratory.intrinsic+json": {
              "type": "string"
            }
          },
          "metadata": {},
          "execution_count": 1
        }
      ]
    },
    {
      "cell_type": "code",
      "source": [
        "mySTR,mySTR_01,mySTR_02"
      ],
      "metadata": {
        "colab": {
          "base_uri": "https://localhost:8080/"
        },
        "id": "BwWcR_a3lpw8",
        "outputId": "e74ed6e6-80e5-4c4b-ab57-a87e13e0df69"
      },
      "execution_count": null,
      "outputs": [
        {
          "output_type": "execute_result",
          "data": {
            "text/plain": [
              "('just Checking, The sting related Functions',\n",
              " '@@@@@@@@@@@@@@@@@@@@@@@@@@@@@just Checking, The sting related Functions@@@@@@@@@@@@@@@@@@@@@@@@@@@@@',\n",
              " 'H\\tE\\tL\\tL\\tO')"
            ]
          },
          "metadata": {},
          "execution_count": 5
        }
      ]
    },
    {
      "cell_type": "code",
      "source": [
        "\"Hi the turn over of {a:,} has lead to gross margin of {b:.0%} and net margin of {c:.0%}\".format(a=10000000,b=0.12,c=0.18)"
      ],
      "metadata": {
        "id": "iqHn96aQ2K9k",
        "outputId": "621c6e75-ecdf-4f9e-cdfb-5724c4357845",
        "colab": {
          "base_uri": "https://localhost:8080/",
          "height": 36
        }
      },
      "execution_count": null,
      "outputs": [
        {
          "output_type": "execute_result",
          "data": {
            "text/plain": [
              "'Hi the turn over of 10,000,000 has lead to gross margin of 12% and net margin of 18%'"
            ],
            "application/vnd.google.colaboratory.intrinsic+json": {
              "type": "string"
            }
          },
          "metadata": {},
          "execution_count": 3
        }
      ]
    },
    {
      "cell_type": "code",
      "source": [
        "my_dict={'a':'Shivang','b':'Mahadevia','c':'Mihirkuamr'}"
      ],
      "metadata": {
        "id": "Y-wiao45w6nH"
      },
      "execution_count": 3,
      "outputs": []
    },
    {
      "cell_type": "code",
      "source": [
        "type(my_dict)"
      ],
      "metadata": {
        "id": "6KtGK3CZ3W0y",
        "outputId": "cc34c528-5dea-4ad4-afa7-903376c9d7e7",
        "colab": {
          "base_uri": "https://localhost:8080/"
        }
      },
      "execution_count": null,
      "outputs": [
        {
          "output_type": "execute_result",
          "data": {
            "text/plain": [
              "dict"
            ]
          },
          "metadata": {},
          "execution_count": 6
        }
      ]
    },
    {
      "cell_type": "code",
      "source": [
        "\"Hi my name is {a}, son on {c} and belonging to the clain of {b}\".format_map(my_dict)"
      ],
      "metadata": {
        "id": "C_t7o2Q23aY7",
        "outputId": "630bd0df-f19f-41ba-b526-fb316ce9fa12",
        "colab": {
          "base_uri": "https://localhost:8080/",
          "height": 36
        }
      },
      "execution_count": null,
      "outputs": [
        {
          "output_type": "execute_result",
          "data": {
            "text/plain": [
              "'Hi my name is Shivang, son on Mihirkuamr and belonging to the clain of Mahadevia'"
            ],
            "application/vnd.google.colaboratory.intrinsic+json": {
              "type": "string"
            }
          },
          "metadata": {},
          "execution_count": 7
        }
      ]
    },
    {
      "cell_type": "code",
      "source": [
        "#outcome_index=mySTR.index('J')\n",
        "outcome_find=mySTR.find('J')\n",
        "print(outcome_index,outcome_find)"
      ],
      "metadata": {
        "id": "9oCpD1Bt3oYG",
        "outputId": "8a072bbf-201a-4608-85f9-08daf2717a27",
        "colab": {
          "base_uri": "https://localhost:8080/"
        }
      },
      "execution_count": null,
      "outputs": [
        {
          "output_type": "stream",
          "name": "stdout",
          "text": [
            "0 -1\n"
          ]
        }
      ]
    },
    {
      "cell_type": "code",
      "source": [
        "mySTR"
      ],
      "metadata": {
        "id": "ksFVuDYA52u-",
        "outputId": "28e2fc3a-8215-430d-b5e8-af3cb98feead",
        "colab": {
          "base_uri": "https://localhost:8080/",
          "height": 36
        }
      },
      "execution_count": null,
      "outputs": [
        {
          "output_type": "execute_result",
          "data": {
            "text/plain": [
              "'just Checking, The sting related Functions'"
            ],
            "application/vnd.google.colaboratory.intrinsic+json": {
              "type": "string"
            }
          },
          "metadata": {},
          "execution_count": 15
        }
      ]
    },
    {
      "cell_type": "code",
      "source": [
        "mySTR.isalnum()"
      ],
      "metadata": {
        "id": "oNL1xCYh57Ak",
        "outputId": "6268d4e0-ac6f-4b38-9c8c-9a18a2c12546",
        "colab": {
          "base_uri": "https://localhost:8080/"
        }
      },
      "execution_count": null,
      "outputs": [
        {
          "output_type": "execute_result",
          "data": {
            "text/plain": [
              "False"
            ]
          },
          "metadata": {},
          "execution_count": 4
        }
      ]
    },
    {
      "cell_type": "code",
      "source": [
        "mySTR_num=\"911\"\n",
        "mySTR_alpha=\"HiYa\"\n",
        "mySTR_alphanum=\"911HiYa\"\n",
        "mySTR_mix=\"911HiYa!\""
      ],
      "metadata": {
        "id": "T1epTKFIoFfj"
      },
      "execution_count": null,
      "outputs": []
    },
    {
      "cell_type": "code",
      "source": [
        "mySTR_num.isalnum(),mySTR_alpha.isalnum(),mySTR_alphanum.isalnum(),mySTR_mix.isalnum()"
      ],
      "metadata": {
        "id": "76f0t418pERE",
        "outputId": "df36e481-3287-4369-9aa8-eeb2a9d88b57",
        "colab": {
          "base_uri": "https://localhost:8080/"
        }
      },
      "execution_count": null,
      "outputs": [
        {
          "output_type": "execute_result",
          "data": {
            "text/plain": [
              "(True, True, True, False)"
            ]
          },
          "metadata": {},
          "execution_count": 8
        }
      ]
    },
    {
      "cell_type": "code",
      "source": [
        "mySTR_num.isalpha(),mySTR_alpha.isalpha(),mySTR_alphanum.isalpha(),mySTR_mix.isalpha()"
      ],
      "metadata": {
        "id": "Y7CFEzyApUJK",
        "outputId": "382e5ebe-283d-4102-aa10-2bc84f5cd4f0",
        "colab": {
          "base_uri": "https://localhost:8080/"
        }
      },
      "execution_count": null,
      "outputs": [
        {
          "output_type": "execute_result",
          "data": {
            "text/plain": [
              "(False, True, False, False)"
            ]
          },
          "metadata": {},
          "execution_count": 9
        }
      ]
    },
    {
      "cell_type": "code",
      "source": [
        "mySTR_num.isascii(),mySTR_alpha.isascii(),mySTR_alphanum.isascii(),mySTR_mix.isascii()"
      ],
      "metadata": {
        "id": "Z62RHJaGsVf7",
        "outputId": "45ca35f6-ad86-4b8d-f852-b4b857b76f08",
        "colab": {
          "base_uri": "https://localhost:8080/"
        }
      },
      "execution_count": null,
      "outputs": [
        {
          "output_type": "execute_result",
          "data": {
            "text/plain": [
              "(True, True, True, True)"
            ]
          },
          "metadata": {},
          "execution_count": 10
        }
      ]
    },
    {
      "cell_type": "code",
      "source": [
        "'€'.isascii(),'€'.isalnum(),'€'.isalpha()"
      ],
      "metadata": {
        "id": "ahYkJCgotdZ5",
        "outputId": "5a3cdb42-80ba-497f-dd4b-d79e64b6c082",
        "colab": {
          "base_uri": "https://localhost:8080/"
        }
      },
      "execution_count": null,
      "outputs": [
        {
          "output_type": "execute_result",
          "data": {
            "text/plain": [
              "(False, False, False)"
            ]
          },
          "metadata": {},
          "execution_count": 12
        }
      ]
    },
    {
      "cell_type": "code",
      "source": [
        "\"abc.de\".isdecimal(),\"0\".isdecimal(),\"100.0\".isdecimal(),\".99\".isdecimal(),\"\\u0030\".isdecimal()"
      ],
      "metadata": {
        "id": "vLpHjHk1uBjB",
        "outputId": "aa11c198-0085-44c3-d5f7-ab1a3483bfe4",
        "colab": {
          "base_uri": "https://localhost:8080/"
        }
      },
      "execution_count": 1,
      "outputs": [
        {
          "output_type": "execute_result",
          "data": {
            "text/plain": [
              "(False, True, False, False, True)"
            ]
          },
          "metadata": {},
          "execution_count": 1
        }
      ]
    },
    {
      "cell_type": "code",
      "source": [
        "\"abc.de\".isdigit(),\"0\".isdigit(),\"100.0\".isdigit(),\".99\".isdigit(),\"\\u0030\".isdigit()"
      ],
      "metadata": {
        "colab": {
          "base_uri": "https://localhost:8080/"
        },
        "id": "PNc3dOEgARV-",
        "outputId": "ced6435b-9ec3-4326-f907-07e09535777d"
      },
      "execution_count": 2,
      "outputs": [
        {
          "output_type": "execute_result",
          "data": {
            "text/plain": [
              "(False, True, False, False, True)"
            ]
          },
          "metadata": {},
          "execution_count": 2
        }
      ]
    },
    {
      "cell_type": "code",
      "source": [
        "my_exponent=4^2"
      ],
      "metadata": {
        "id": "TL2BrSQAAlEU"
      },
      "execution_count": 3,
      "outputs": []
    },
    {
      "cell_type": "code",
      "source": [
        "my_exponent"
      ],
      "metadata": {
        "colab": {
          "base_uri": "https://localhost:8080/"
        },
        "id": "ozP0lErIA7vL",
        "outputId": "61bc1526-e5f4-4410-89ce-4c6b5f7d5d82"
      },
      "execution_count": 4,
      "outputs": [
        {
          "output_type": "execute_result",
          "data": {
            "text/plain": [
              "6"
            ]
          },
          "metadata": {},
          "execution_count": 4
        }
      ]
    },
    {
      "cell_type": "code",
      "source": [
        "\"^2\".isdigit(),\"^2\".isdecimal()"
      ],
      "metadata": {
        "colab": {
          "base_uri": "https://localhost:8080/"
        },
        "id": "BO1wgm4cA_GA",
        "outputId": "adcffb33-b1b9-41b7-9a5d-bf5532dd3e22"
      },
      "execution_count": 6,
      "outputs": [
        {
          "output_type": "execute_result",
          "data": {
            "text/plain": [
              "(False, False)"
            ]
          },
          "metadata": {},
          "execution_count": 6
        }
      ]
    },
    {
      "cell_type": "code",
      "source": [
        "\"_shivang\".isidentifier(),\"Shivang\".isidentifier(),\"shivang_911\".isidentifier(),\"911shivang\".isidentifier(),\"shivang mahadevia\".isidentifier()"
      ],
      "metadata": {
        "colab": {
          "base_uri": "https://localhost:8080/"
        },
        "id": "pkkntbTIBK5r",
        "outputId": "83f86246-e8f9-4e01-a5cf-16dbc3926689"
      },
      "execution_count": 8,
      "outputs": [
        {
          "output_type": "execute_result",
          "data": {
            "text/plain": [
              "(True, True, True, False, False)"
            ]
          },
          "metadata": {},
          "execution_count": 8
        }
      ]
    },
    {
      "cell_type": "code",
      "source": [
        "\"SHIVNAG\".islower(),\"Shivang\".islower(),\"shivang\".islower(),\"shivang1\".islower(),\"911shivang_\".islower()"
      ],
      "metadata": {
        "colab": {
          "base_uri": "https://localhost:8080/"
        },
        "id": "S7MHrn31DFfi",
        "outputId": "3ad2483f-ebca-4b20-f407-f1bbeefef4c2"
      },
      "execution_count": 11,
      "outputs": [
        {
          "output_type": "execute_result",
          "data": {
            "text/plain": [
              "(False, False, True, True, True)"
            ]
          },
          "metadata": {},
          "execution_count": 11
        }
      ]
    },
    {
      "cell_type": "code",
      "source": [
        "\"100\".isnumeric(),\"0.997\".isnumeric(),\"12ab\".isnumeric()"
      ],
      "metadata": {
        "colab": {
          "base_uri": "https://localhost:8080/"
        },
        "id": "Vq0fA9uiDeYy",
        "outputId": "4a1ba38d-8b70-42ed-b06b-a4033e75ce96"
      },
      "execution_count": 13,
      "outputs": [
        {
          "output_type": "execute_result",
          "data": {
            "text/plain": [
              "(True, False, False)"
            ]
          },
          "metadata": {},
          "execution_count": 13
        }
      ]
    },
    {
      "cell_type": "code",
      "source": [
        "print(\"Hi \\n Hello\")"
      ],
      "metadata": {
        "colab": {
          "base_uri": "https://localhost:8080/"
        },
        "id": "Drym81MZD4JU",
        "outputId": "4949259a-7181-4527-fd9d-865b16119f61"
      },
      "execution_count": 14,
      "outputs": [
        {
          "output_type": "stream",
          "name": "stdout",
          "text": [
            "Hi \n",
            " Hello\n"
          ]
        }
      ]
    },
    {
      "cell_type": "code",
      "source": [
        "\"Hi \\n Hello\".isprintable(),\"Hellow There\".isprintable(),\"Hi \\t Hello\".isprintable()"
      ],
      "metadata": {
        "colab": {
          "base_uri": "https://localhost:8080/"
        },
        "id": "q--QHHF0D1xu",
        "outputId": "f1bc7869-3eee-4648-aa18-813cf46a3b07"
      },
      "execution_count": 16,
      "outputs": [
        {
          "output_type": "execute_result",
          "data": {
            "text/plain": [
              "(False, True, False)"
            ]
          },
          "metadata": {},
          "execution_count": 16
        }
      ]
    },
    {
      "cell_type": "code",
      "source": [
        "\" Shiavng\".isspace(),\"shivang\".isspace(),\"1 2 2\".isspace(),\"a b c\".isspace(),\" \".isspace(),\"          \".isspace()"
      ],
      "metadata": {
        "colab": {
          "base_uri": "https://localhost:8080/"
        },
        "id": "hCli2ZEwFQYA",
        "outputId": "a1a55248-2134-41d6-d02b-8269ee7e32b7"
      },
      "execution_count": 20,
      "outputs": [
        {
          "output_type": "execute_result",
          "data": {
            "text/plain": [
              "(False, False, False, False, True, True)"
            ]
          },
          "metadata": {},
          "execution_count": 20
        }
      ]
    },
    {
      "cell_type": "code",
      "source": [
        "\"shivang\".istitle(),\"Shivang\".istitle(),\"shivang Mahadevia\".istitle(),\"Mahadevia shivang\".istitle(),\"Mahadevia Shivang\".istitle()"
      ],
      "metadata": {
        "colab": {
          "base_uri": "https://localhost:8080/"
        },
        "id": "VY7pEvlMGRMH",
        "outputId": "de1d0a38-495d-4cf4-c63d-23dbfd87dad9"
      },
      "execution_count": 24,
      "outputs": [
        {
          "output_type": "execute_result",
          "data": {
            "text/plain": [
              "(False, True, False, False, True)"
            ]
          },
          "metadata": {},
          "execution_count": 24
        }
      ]
    },
    {
      "cell_type": "code",
      "source": [
        "\"Shivang\".isupper(),\"SHIVANG\".isupper(),\"shivang MAHADEVIA\".isupper(),\"SHIVANG MAHADEVIA\".isupper()"
      ],
      "metadata": {
        "colab": {
          "base_uri": "https://localhost:8080/"
        },
        "id": "KvIvP8FSGsy8",
        "outputId": "ca3fb71e-b2c7-43f0-b29e-c7efd92e9f0e"
      },
      "execution_count": 25,
      "outputs": [
        {
          "output_type": "execute_result",
          "data": {
            "text/plain": [
              "(False, True, False, True)"
            ]
          },
          "metadata": {},
          "execution_count": 25
        }
      ]
    },
    {
      "cell_type": "code",
      "source": [
        "\"Hi\".join(\"Hello\")"
      ],
      "metadata": {
        "colab": {
          "base_uri": "https://localhost:8080/",
          "height": 36
        },
        "id": "Cz-VvGHzHFJ8",
        "outputId": "1e43d516-6980-4481-9df0-75f45ac417ed"
      },
      "execution_count": 1,
      "outputs": [
        {
          "output_type": "execute_result",
          "data": {
            "text/plain": [
              "'HHieHilHilHio'"
            ],
            "application/vnd.google.colaboratory.intrinsic+json": {
              "type": "string"
            }
          },
          "metadata": {},
          "execution_count": 1
        }
      ]
    },
    {
      "cell_type": "code",
      "source": [
        "my_dict"
      ],
      "metadata": {
        "id": "V_5XwNtBtriq",
        "outputId": "318df3d0-479a-4c91-ccae-97cc4c461177",
        "colab": {
          "base_uri": "https://localhost:8080/"
        }
      },
      "execution_count": 4,
      "outputs": [
        {
          "output_type": "execute_result",
          "data": {
            "text/plain": [
              "{'a': 'Shivang', 'b': 'Mahadevia', 'c': 'Mihirkuamr'}"
            ]
          },
          "metadata": {},
          "execution_count": 4
        }
      ]
    },
    {
      "cell_type": "code",
      "source": [
        "\"Yes!!\".join(my_dict)"
      ],
      "metadata": {
        "id": "i-cYROEsuTA5",
        "outputId": "28c5ce18-965f-452a-f621-34ed5cc49f31",
        "colab": {
          "base_uri": "https://localhost:8080/",
          "height": 36
        }
      },
      "execution_count": 7,
      "outputs": [
        {
          "output_type": "execute_result",
          "data": {
            "text/plain": [
              "'aYes!!bYes!!c'"
            ],
            "application/vnd.google.colaboratory.intrinsic+json": {
              "type": "string"
            }
          },
          "metadata": {},
          "execution_count": 7
        }
      ]
    },
    {
      "cell_type": "code",
      "source": [
        "myDict = {\"name\": \"John\", \"country\": \"Norway\"}\n",
        "mySeparator = \"TEST\"\n",
        "\n",
        "x = mySeparator.join(myDict)\n",
        "\n",
        "print(x)"
      ],
      "metadata": {
        "id": "QtEKHSxRuyN8",
        "outputId": "1037537d-3a61-42f8-e65b-7917f77e7024",
        "colab": {
          "base_uri": "https://localhost:8080/"
        }
      },
      "execution_count": 8,
      "outputs": [
        {
          "output_type": "stream",
          "name": "stdout",
          "text": [
            "nameTESTcountry\n"
          ]
        }
      ]
    },
    {
      "cell_type": "code",
      "source": [
        "my_list=[\"Hi\",\"Hello\",\"HeYa\", \"Namaste\"]"
      ],
      "metadata": {
        "id": "zdZhinNFwIob"
      },
      "execution_count": 1,
      "outputs": []
    },
    {
      "cell_type": "code",
      "source": [
        "\"Lovely\".join(my_list)"
      ],
      "metadata": {
        "id": "yImilF1SQPIV",
        "outputId": "da0c6da2-f9a7-4e4a-8f15-a85ce36c2e5a",
        "colab": {
          "base_uri": "https://localhost:8080/",
          "height": 36
        }
      },
      "execution_count": 3,
      "outputs": [
        {
          "output_type": "execute_result",
          "data": {
            "text/plain": [
              "'HiLovelyHelloLovelyHeYaLovelyNamaste'"
            ],
            "application/vnd.google.colaboratory.intrinsic+json": {
              "type": "string"
            }
          },
          "metadata": {},
          "execution_count": 3
        }
      ]
    },
    {
      "cell_type": "code",
      "source": [
        "\"911\".ljust(10,'$')"
      ],
      "metadata": {
        "id": "DXwvzSG0QoyJ",
        "outputId": "7fea3d14-4977-4015-b380-4e079fd47fea",
        "colab": {
          "base_uri": "https://localhost:8080/",
          "height": 36
        }
      },
      "execution_count": 5,
      "outputs": [
        {
          "output_type": "execute_result",
          "data": {
            "text/plain": [
              "'911$$$$$$$'"
            ],
            "application/vnd.google.colaboratory.intrinsic+json": {
              "type": "string"
            }
          },
          "metadata": {},
          "execution_count": 5
        }
      ]
    },
    {
      "cell_type": "code",
      "source": [
        "\"HI HELLO\".lower(),\"Hi Hello\".lower(),\"hi hello\".lower(),\"9HI\".lower(),\"HI9\".lower()"
      ],
      "metadata": {
        "id": "OPA-mlDRRRQL",
        "outputId": "04f7ee6f-eabc-4881-d3ce-76ab1f22291d",
        "colab": {
          "base_uri": "https://localhost:8080/"
        }
      },
      "execution_count": 6,
      "outputs": [
        {
          "output_type": "execute_result",
          "data": {
            "text/plain": [
              "('hi hello', 'hi hello', 'hi hello', '9hi', 'hi9')"
            ]
          },
          "metadata": {},
          "execution_count": 6
        }
      ]
    },
    {
      "cell_type": "code",
      "source": [
        "mystr_strip=\"Hello\".center(100,'@')"
      ],
      "metadata": {
        "id": "PqfVozMIRMqF"
      },
      "execution_count": 8,
      "outputs": []
    },
    {
      "cell_type": "code",
      "source": [
        "mystr_strip"
      ],
      "metadata": {
        "id": "mvfzNgemUZea",
        "outputId": "6c1c0d69-f527-455d-9ab5-7788758273d6",
        "colab": {
          "base_uri": "https://localhost:8080/",
          "height": 36
        }
      },
      "execution_count": 9,
      "outputs": [
        {
          "output_type": "execute_result",
          "data": {
            "text/plain": [
              "'@@@@@@@@@@@@@@@@@@@@@@@@@@@@@@@@@@@@@@@@@@@@@@@Hello@@@@@@@@@@@@@@@@@@@@@@@@@@@@@@@@@@@@@@@@@@@@@@@@'"
            ],
            "application/vnd.google.colaboratory.intrinsic+json": {
              "type": "string"
            }
          },
          "metadata": {},
          "execution_count": 9
        }
      ]
    },
    {
      "cell_type": "code",
      "source": [
        "mystr_strip.lstrip()"
      ],
      "metadata": {
        "id": "NGnxms2eUh4F",
        "outputId": "a9f408a8-91bf-4a72-f64c-5a0b2d7ba912",
        "colab": {
          "base_uri": "https://localhost:8080/",
          "height": 36
        }
      },
      "execution_count": 10,
      "outputs": [
        {
          "output_type": "execute_result",
          "data": {
            "text/plain": [
              "'@@@@@@@@@@@@@@@@@@@@@@@@@@@@@@@@@@@@@@@@@@@@@@@Hello@@@@@@@@@@@@@@@@@@@@@@@@@@@@@@@@@@@@@@@@@@@@@@@@'"
            ],
            "application/vnd.google.colaboratory.intrinsic+json": {
              "type": "string"
            }
          },
          "metadata": {},
          "execution_count": 10
        }
      ]
    },
    {
      "cell_type": "code",
      "source": [
        "mystr_strip.lstrip('@')"
      ],
      "metadata": {
        "id": "btHtujVFU4Ro",
        "outputId": "862b134b-afef-4199-e231-cea24a15d7db",
        "colab": {
          "base_uri": "https://localhost:8080/",
          "height": 36
        }
      },
      "execution_count": 11,
      "outputs": [
        {
          "output_type": "execute_result",
          "data": {
            "text/plain": [
              "'Hello@@@@@@@@@@@@@@@@@@@@@@@@@@@@@@@@@@@@@@@@@@@@@@@@'"
            ],
            "application/vnd.google.colaboratory.intrinsic+json": {
              "type": "string"
            }
          },
          "metadata": {},
          "execution_count": 11
        }
      ]
    },
    {
      "cell_type": "code",
      "source": [],
      "metadata": {
        "id": "DVZ06DvsQkB8"
      },
      "execution_count": null,
      "outputs": []
    }
  ]
}