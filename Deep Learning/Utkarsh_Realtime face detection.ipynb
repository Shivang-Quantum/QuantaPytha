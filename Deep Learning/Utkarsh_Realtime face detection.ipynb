{
 "cells": [
  {
   "cell_type": "code",
   "execution_count": 1,
   "id": "8365fe72",
   "metadata": {},
   "outputs": [],
   "source": [
    "import cv2\n",
    "import numpy as np\n",
    "import matplotlib.pyplot as plt\n",
    "import os\n",
    "\n",
    "import warnings \n",
    "warnings.filterwarnings('ignore')\n",
    "\n",
    "%matplotlib inline"
   ]
  },
  {
   "cell_type": "code",
   "execution_count": 3,
   "id": "adec18c9",
   "metadata": {},
   "outputs": [
    {
     "data": {
      "text/plain": [
       "(-0.5, 639.5, 479.5, -0.5)"
      ]
     },
     "execution_count": 3,
     "metadata": {},
     "output_type": "execute_result"
    },
    {
     "data": {
      "image/png": "[encoded data removed]",
      "text/plain": [
       "<Figure size 432x288 with 1 Axes>"
      ]
     },
     "metadata": {
      "needs_background": "light"
     },
     "output_type": "display_data"
    }
   ],
   "source": [
    "webcam = cv2.VideoCapture(0)\n",
    "_, img = webcam.read()\n",
    "\n",
    "webcam.release()\n",
    "cv2.destroyAllWindows()\n",
    "\n",
    "img = cv2.cvtColor(img, cv2.COLOR_BGR2RGB)\n",
    "plt.imshow(img)\n",
    "plt.axis('off')"
   ]
  },
  {
   "cell_type": "code",
   "execution_count": 7,
   "id": "3df38f70",
   "metadata": {},
   "outputs": [],
   "source": [
    "# Function to detect face\n",
    "def detect_face(img):\n",
    "    '''\n",
    "    Input   : An image\n",
    "    Output  : Image with bounding box around faces\n",
    "    '''\n",
    "    # img = cv2.imread(image_path)                              # Read the image\n",
    "    img = cv2.cvtColor(img, cv2.COLOR_BGR2RGB)                # convert to rgb\n",
    "    img_gray = cv2.cvtColor(img, cv2.COLOR_RGB2GRAY)          # create a grayscale version of image\n",
    "    \n",
    "    # Create a cascade classifier and use detect multiscale function\n",
    "    faceCascade = cv2.CascadeClassifier('haarcascade_frontalface_default.xml')\n",
    "    faces = faceCascade.detectMultiScale(img_gray, 1.2, 4)\n",
    "    \n",
    "    # draw the bounding boxes\n",
    "    for x,y,w,h in faces:\n",
    "        cv2.rectangle(img, (x, y), (x+w, y+h), (255,0,0), 10)\n",
    "        \n",
    "    return img"
   ]
  },
  {
   "cell_type": "code",
   "execution_count": 8,
   "id": "102929a7",
   "metadata": {},
   "outputs": [
    {
     "data": {
      "text/plain": [
       "(-0.5, 639.5, 479.5, -0.5)"
      ]
     },
     "execution_count": 8,
     "metadata": {},
     "output_type": "execute_result"
    },
    {
     "data": {
      "image/png": "[encoded data removed]",
      "text/plain": [
       "<Figure size 576x576 with 1 Axes>"
      ]
     },
     "metadata": {
      "needs_background": "light"
     },
     "output_type": "display_data"
    }
   ],
   "source": [
    "# Capturing and detecting image\n",
    "webcam = cv2.VideoCapture(0)\n",
    "_, img = webcam.read()\n",
    "\n",
    "webcam.release()\n",
    "cv2.destroyAllWindows()\n",
    "\n",
    "image = detect_face(img)\n",
    "\n",
    "plt.figure(figsize = (8,8))\n",
    "plt.imshow(image)\n",
    "plt.axis('off')"
   ]
  },
  {
   "cell_type": "code",
   "execution_count": 9,
   "id": "3ef8dbd4",
   "metadata": {},
   "outputs": [],
   "source": [
    "# Capturing and detecting face from video\n",
    "webcam = cv2.VideoCapture(0)\n",
    "while True:\n",
    "    _, img = webcam.read()\n",
    "    image = detect_face(img)\n",
    "    \n",
    "    cv2.imshow('Face detction', image)\n",
    "    \n",
    "    key = cv2.waitKey(10)\n",
    "    if key == 27:\n",
    "        webcam.release()\n",
    "        cv2.destroyAllWindows()\n",
    "        break"
   ]
  },
  {
   "cell_type": "code",
   "execution_count": null,
   "id": "ca13d32f",
   "metadata": {},
   "outputs": [],
   "source": []
  }
 ],
 "metadata": {
  "kernelspec": {
   "display_name": "Python 3 (ipykernel)",
   "language": "python",
   "name": "python3"
  },
  "language_info": {
   "codemirror_mode": {
    "name": "ipython",
    "version": 3
   },
   "file_extension": ".py",
   "mimetype": "text/x-python",
   "name": "python",
   "nbconvert_exporter": "python",
   "pygments_lexer": "ipython3",
   "version": "3.9.7"
  }
 },
 "nbformat": 4,
 "nbformat_minor": 5
}
