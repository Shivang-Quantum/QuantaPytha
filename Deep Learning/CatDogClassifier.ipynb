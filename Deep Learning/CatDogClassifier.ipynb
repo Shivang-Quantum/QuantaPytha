{
  "nbformat": 4,
  "nbformat_minor": 0,
  "metadata": {
    "colab": {
      "provenance": [],
      "gpuType": "T4",
      "mount_file_id": "1dt9qi0sj8zMd4LLiZJDq5mtOIPR-os8_",
      "authorship_tag": "ABX9TyOJlNNlbtsx2uMVLW2dfSyU",
      "include_colab_link": true
    },
    "kernelspec": {
      "name": "python3",
      "display_name": "Python 3"
    },
    "language_info": {
      "name": "python"
    },
    "accelerator": "GPU"
  },
  "cells": [
    {
      "cell_type": "markdown",
      "metadata": {
        "id": "view-in-github",
        "colab_type": "text"
      },
      "source": [
        "<a href=\"https://colab.research.google.com/github/Shivang-Quantum/QuantaPytha/blob/Tutort/Deep%20Learning/CatDogClassifier.ipynb\" target=\"_parent\"><img src=\"https://colab.research.google.com/assets/colab-badge.svg\" alt=\"Open In Colab\"/></a>"
      ]
    },
    {
      "cell_type": "code",
      "execution_count": 7,
      "metadata": {
        "id": "6I_wpog8OHHF"
      },
      "outputs": [],
      "source": [
        "#Import Libraries\n",
        "import numpy as np\n",
        "import tensorflow as tf\n",
        "from tensorflow.keras.layers import Conv2D, MaxPooling2D, Flatten, Dense\n",
        "from tensorflow.keras.preprocessing import image\n",
        "from tensorflow.keras.models import Sequential\n",
        "from tensorflow.keras.preprocessing.image import ImageDataGenerator\n",
        "import matplotlib.pyplot as plt"
      ]
    },
    {
      "cell_type": "code",
      "source": [],
      "metadata": {
        "id": "J-31hRcjef8_"
      },
      "execution_count": 7,
      "outputs": []
    },
    {
      "cell_type": "code",
      "source": [
        "cd /content/drive/MyDrive/Tutort/datasets/\n"
      ],
      "metadata": {
        "colab": {
          "base_uri": "https://localhost:8080/"
        },
        "id": "h68RFFBqQSmF",
        "outputId": "e1de9ddf-06a6-40d3-f612-88037fefe456"
      },
      "execution_count": 8,
      "outputs": [
        {
          "output_type": "stream",
          "name": "stdout",
          "text": [
            "/content/drive/MyDrive/Tutort/datasets\n"
          ]
        }
      ]
    },
    {
      "cell_type": "code",
      "source": [
        "#unzip file\n",
        "\n",
        "!unzip archive_Cat_Dog.zip"
      ],
      "metadata": {
        "colab": {
          "base_uri": "https://localhost:8080/"
        },
        "id": "tKcfZiVIRYKm",
        "outputId": "7d3fa24d-a150-4b01-dffb-1b97948a291d"
      },
      "execution_count": 3,
      "outputs": [
        {
          "output_type": "stream",
          "name": "stdout",
          "text": [
            "Archive:  archive_Cat_Dog.zip\n",
            "replace test_set/test_set/cats/_DS_Store? [y]es, [n]o, [A]ll, [N]one, [r]ename: "
          ]
        }
      ]
    },
    {
      "cell_type": "code",
      "source": [],
      "metadata": {
        "id": "Vf4ovx-uU0jf"
      },
      "execution_count": null,
      "outputs": []
    },
    {
      "cell_type": "code",
      "source": [
        "training_path=\"/content/drive/MyDrive/Tutort/datasets/training_set/training_set\"\n",
        "testing_path=\"/content/drive/MyDrive/Tutort/datasets/test_set/test_set\""
      ],
      "metadata": {
        "id": "zU1gtsrEUCEF"
      },
      "execution_count": 9,
      "outputs": []
    },
    {
      "cell_type": "code",
      "source": [
        "train_datagen=ImageDataGenerator(rescale=1/255,horizontal_flip=True)"
      ],
      "metadata": {
        "id": "jHm0eqwEXwxT"
      },
      "execution_count": 10,
      "outputs": []
    },
    {
      "cell_type": "code",
      "source": [
        "test_datagen=ImageDataGenerator(rescale=1/255)"
      ],
      "metadata": {
        "id": "k_Z_ATmGY_iZ"
      },
      "execution_count": 11,
      "outputs": []
    },
    {
      "cell_type": "code",
      "source": [
        "train_datagen"
      ],
      "metadata": {
        "colab": {
          "base_uri": "https://localhost:8080/"
        },
        "id": "iAAn1AKQZKQG",
        "outputId": "b1b6707a-3428-4845-e73b-16b14beeba13"
      },
      "execution_count": null,
      "outputs": [
        {
          "output_type": "execute_result",
          "data": {
            "text/plain": [
              "<keras.src.preprocessing.image.ImageDataGenerator at 0x7e965b9c1b40>"
            ]
          },
          "metadata": {},
          "execution_count": 13
        }
      ]
    },
    {
      "cell_type": "code",
      "source": [
        "training_set = train_datagen.flow_from_directory(training_path,target_size=(64,64),batch_size=32,class_mode=\"binary\")\n",
        "testing_set = test_datagen.flow_from_directory(training_path,target_size=(64,64),batch_size=32,class_mode=\"binary\")"
      ],
      "metadata": {
        "colab": {
          "base_uri": "https://localhost:8080/"
        },
        "id": "yos-3atXZNFl",
        "outputId": "25cbb8de-f651-47e1-8527-df8efc713a27"
      },
      "execution_count": 12,
      "outputs": [
        {
          "output_type": "stream",
          "name": "stdout",
          "text": [
            "Found 8005 images belonging to 2 classes.\n",
            "Found 8005 images belonging to 2 classes.\n"
          ]
        }
      ]
    },
    {
      "cell_type": "code",
      "source": [
        "# checking the data\n",
        "sample_data=next(training_set)"
      ],
      "metadata": {
        "id": "JnGbN0GycEn8"
      },
      "execution_count": 13,
      "outputs": []
    },
    {
      "cell_type": "code",
      "source": [
        "sample_data"
      ],
      "metadata": {
        "colab": {
          "base_uri": "https://localhost:8080/"
        },
        "id": "QSmIMmEbeBJS",
        "outputId": "a91756e9-128a-4c4c-8f94-54e9433c91cc"
      },
      "execution_count": null,
      "outputs": [
        {
          "output_type": "execute_result",
          "data": {
            "text/plain": [
              "(array([[[[0.8745099 , 0.8705883 , 0.86274517],\n",
              "          [0.8745099 , 0.8705883 , 0.86274517],\n",
              "          [0.8705883 , 0.86666673, 0.8588236 ],\n",
              "          ...,\n",
              "          [0.8470589 , 0.8431373 , 0.82745105],\n",
              "          [0.854902  , 0.85098046, 0.8352942 ],\n",
              "          [0.8078432 , 0.78823537, 0.77647066]],\n",
              " \n",
              "         [[0.8745099 , 0.8705883 , 0.86274517],\n",
              "          [0.8745099 , 0.8705883 , 0.86274517],\n",
              "          [0.87843144, 0.8745099 , 0.86666673],\n",
              "          ...,\n",
              "          [0.8431373 , 0.83921576, 0.8235295 ],\n",
              "          [0.854902  , 0.85098046, 0.8352942 ],\n",
              "          [0.8078432 , 0.78823537, 0.77647066]],\n",
              " \n",
              "         [[0.8745099 , 0.8705883 , 0.86274517],\n",
              "          [0.8745099 , 0.8705883 , 0.86274517],\n",
              "          [0.8745099 , 0.8705883 , 0.86274517],\n",
              "          ...,\n",
              "          [0.854902  , 0.8352942 , 0.8235295 ],\n",
              "          [0.86274517, 0.8431373 , 0.8313726 ],\n",
              "          [0.8078432 , 0.7843138 , 0.7843138 ]],\n",
              " \n",
              "         ...,\n",
              " \n",
              "         [[0.75294125, 0.6901961 , 0.6392157 ],\n",
              "          [0.7019608 , 0.62352943, 0.5803922 ],\n",
              "          [0.7254902 , 0.6627451 , 0.6039216 ],\n",
              "          ...,\n",
              "          [0.6666667 , 0.5647059 , 0.49803925],\n",
              "          [0.74509805, 0.6431373 , 0.5764706 ],\n",
              "          [0.6784314 , 0.6039216 , 0.5372549 ]],\n",
              " \n",
              "         [[0.77647066, 0.7058824 , 0.65882355],\n",
              "          [0.7568628 , 0.6862745 , 0.6392157 ],\n",
              "          [0.7372549 , 0.6666667 , 0.6117647 ],\n",
              "          ...,\n",
              "          [0.7019608 , 0.6117647 , 0.5568628 ],\n",
              "          [0.6313726 , 0.5411765 , 0.48627454],\n",
              "          [0.6431373 , 0.5529412 , 0.49803925]],\n",
              " \n",
              "         [[0.7058824 , 0.6431373 , 0.5921569 ],\n",
              "          [0.70980394, 0.6313726 , 0.5882353 ],\n",
              "          [0.7490196 , 0.6745098 , 0.61960787],\n",
              "          ...,\n",
              "          [0.7058824 , 0.6117647 , 0.5647059 ],\n",
              "          [0.68235296, 0.5921569 , 0.5294118 ],\n",
              "          [0.65882355, 0.57254905, 0.5176471 ]]],\n",
              " \n",
              " \n",
              "        [[[0.08235294, 0.08235294, 0.08235294],\n",
              "          [0.1137255 , 0.1254902 , 0.14509805],\n",
              "          [0.07450981, 0.08627451, 0.12156864],\n",
              "          ...,\n",
              "          [0.8235295 , 0.93725497, 1.        ],\n",
              "          [0.8196079 , 0.9333334 , 0.9960785 ],\n",
              "          [0.81568635, 0.9294118 , 0.9921569 ]],\n",
              " \n",
              "         [[0.19215688, 0.19607845, 0.1764706 ],\n",
              "          [0.06666667, 0.08235294, 0.08627451],\n",
              "          [0.10980393, 0.13725491, 0.16862746],\n",
              "          ...,\n",
              "          [0.8235295 , 0.93725497, 1.        ],\n",
              "          [0.8235295 , 0.93725497, 1.        ],\n",
              "          [0.8196079 , 0.9333334 , 0.9960785 ]],\n",
              " \n",
              "         [[0.20392159, 0.20784315, 0.1764706 ],\n",
              "          [0.18431373, 0.20392159, 0.18823531],\n",
              "          [0.1254902 , 0.16078432, 0.18823531],\n",
              "          ...,\n",
              "          [0.8235295 , 0.93725497, 1.        ],\n",
              "          [0.8235295 , 0.93725497, 1.        ],\n",
              "          [0.8196079 , 0.9333334 , 0.9960785 ]],\n",
              " \n",
              "         ...,\n",
              " \n",
              "         [[0.15294118, 0.10588236, 0.10588236],\n",
              "          [0.18431373, 0.13725491, 0.13725491],\n",
              "          [0.14901961, 0.13725491, 0.10980393],\n",
              "          ...,\n",
              "          [0.07450981, 0.10588236, 0.15686275],\n",
              "          [0.01568628, 0.03921569, 0.08627451],\n",
              "          [0.0509804 , 0.07843138, 0.14117648]],\n",
              " \n",
              "         [[0.12156864, 0.10588236, 0.09411766],\n",
              "          [0.14117648, 0.1254902 , 0.1137255 ],\n",
              "          [0.1764706 , 0.16470589, 0.13725491],\n",
              "          ...,\n",
              "          [0.04705883, 0.09803922, 0.16470589],\n",
              "          [0.04705883, 0.09803922, 0.16470589],\n",
              "          [0.05490196, 0.10196079, 0.16470589]],\n",
              " \n",
              "         [[0.10196079, 0.05882353, 0.07450981],\n",
              "          [0.20392159, 0.21960786, 0.21568629],\n",
              "          [0.15686275, 0.1137255 , 0.09019608],\n",
              "          ...,\n",
              "          [0.04313726, 0.08235294, 0.12941177],\n",
              "          [0.03137255, 0.06666667, 0.1254902 ],\n",
              "          [0.05490196, 0.10196079, 0.16470589]]],\n",
              " \n",
              " \n",
              "        [[[0.47450984, 0.39607847, 0.36078432],\n",
              "          [0.6       , 0.5294118 , 0.47450984],\n",
              "          [0.42352945, 0.36078432, 0.29803923],\n",
              "          ...,\n",
              "          [0.38431376, 0.38823533, 0.36862746],\n",
              "          [0.22352943, 0.25490198, 0.21176472],\n",
              "          [0.1254902 , 0.13333334, 0.1137255 ]],\n",
              " \n",
              "         [[0.5686275 , 0.5019608 , 0.47058827],\n",
              "          [0.5686275 , 0.5294118 , 0.48235297],\n",
              "          [0.47058827, 0.43921572, 0.34901962],\n",
              "          ...,\n",
              "          [0.30980393, 0.34901962, 0.30588236],\n",
              "          [0.25882354, 0.25490198, 0.2392157 ],\n",
              "          [0.21960786, 0.2784314 , 0.19607845]],\n",
              " \n",
              "         [[0.29411766, 0.26666668, 0.19607845],\n",
              "          [0.454902  , 0.37647063, 0.34901962],\n",
              "          [0.5176471 , 0.4431373 , 0.4156863 ],\n",
              "          ...,\n",
              "          [0.14901961, 0.22352943, 0.14901961],\n",
              "          [0.18039216, 0.227451  , 0.14901961],\n",
              "          [0.18039216, 0.18823531, 0.14509805]],\n",
              " \n",
              "         ...,\n",
              " \n",
              "         [[0.26666668, 0.20392159, 0.20784315],\n",
              "          [0.4039216 , 0.34509805, 0.31764707],\n",
              "          [0.4039216 , 0.33333334, 0.28627452],\n",
              "          ...,\n",
              "          [0.16470589, 0.1254902 , 0.12156864],\n",
              "          [0.47058827, 0.41960788, 0.39607847],\n",
              "          [0.12156864, 0.1137255 , 0.05490196]],\n",
              " \n",
              "         [[0.18431373, 0.13333334, 0.10196079],\n",
              "          [0.58431375, 0.5254902 , 0.49803925],\n",
              "          [0.3647059 , 0.2901961 , 0.23137257],\n",
              "          ...,\n",
              "          [0.27450982, 0.18431373, 0.16078432],\n",
              "          [0.18431373, 0.11764707, 0.08627451],\n",
              "          [0.5372549 , 0.45098042, 0.40784317]],\n",
              " \n",
              "         [[0.4901961 , 0.41960788, 0.3647059 ],\n",
              "          [0.5372549 , 0.47450984, 0.42352945],\n",
              "          [0.6627451 , 0.6156863 , 0.56078434],\n",
              "          ...,\n",
              "          [0.20392159, 0.12941177, 0.1137255 ],\n",
              "          [0.29411766, 0.20392159, 0.18039216],\n",
              "          [0.28235295, 0.22352943, 0.19607845]]],\n",
              " \n",
              " \n",
              "        ...,\n",
              " \n",
              " \n",
              "        [[[0.60784316, 0.60784316, 0.5137255 ],\n",
              "          [0.49803925, 0.4431373 , 0.43921572],\n",
              "          [0.53333336, 0.5372549 , 0.5568628 ],\n",
              "          ...,\n",
              "          [0.4039216 , 0.3803922 , 0.427451  ],\n",
              "          [0.28235295, 0.23529413, 0.23529413],\n",
              "          [0.36862746, 0.36078432, 0.37254903]],\n",
              " \n",
              "         [[0.62352943, 0.62352943, 0.5294118 ],\n",
              "          [0.5058824 , 0.45098042, 0.44705886],\n",
              "          [0.5411765 , 0.54509807, 0.5647059 ],\n",
              "          ...,\n",
              "          [0.3254902 , 0.3019608 , 0.31764707],\n",
              "          [0.3647059 , 0.34117648, 0.34901962],\n",
              "          [0.38823533, 0.38431376, 0.40784317]],\n",
              " \n",
              "         [[0.6313726 , 0.6313726 , 0.5372549 ],\n",
              "          [0.5058824 , 0.45098042, 0.44705886],\n",
              "          [0.54509807, 0.54901963, 0.5686275 ],\n",
              "          ...,\n",
              "          [0.3529412 , 0.3254902 , 0.3019608 ],\n",
              "          [0.3921569 , 0.40784317, 0.41960788],\n",
              "          [0.3921569 , 0.3921569 , 0.42352945]],\n",
              " \n",
              "         ...,\n",
              " \n",
              "         [[0.50980395, 0.48627454, 0.43921572],\n",
              "          [0.5137255 , 0.5019608 , 0.4666667 ],\n",
              "          [0.48235297, 0.4901961 , 0.44705886],\n",
              "          ...,\n",
              "          [0.4431373 , 0.4156863 , 0.3529412 ],\n",
              "          [0.4156863 , 0.38823533, 0.3254902 ],\n",
              "          [0.39607847, 0.36862746, 0.30588236]],\n",
              " \n",
              "         [[0.5372549 , 0.5372549 , 0.5058824 ],\n",
              "          [0.54509807, 0.54509807, 0.5137255 ],\n",
              "          [0.49803925, 0.49803925, 0.45098042],\n",
              "          ...,\n",
              "          [0.42352945, 0.39607847, 0.32156864],\n",
              "          [0.42352945, 0.39607847, 0.3254902 ],\n",
              "          [0.38823533, 0.36078432, 0.29803923]],\n",
              " \n",
              "         [[0.5294118 , 0.5294118 , 0.49803925],\n",
              "          [0.53333336, 0.53333336, 0.5019608 ],\n",
              "          [0.5294118 , 0.5294118 , 0.48235297],\n",
              "          ...,\n",
              "          [0.5568628 , 0.5254902 , 0.43529415],\n",
              "          [0.5568628 , 0.5294118 , 0.427451  ],\n",
              "          [0.5372549 , 0.50980395, 0.39607847]]],\n",
              " \n",
              " \n",
              "        [[[0.427451  , 0.35686275, 0.2627451 ],\n",
              "          [0.56078434, 0.48235297, 0.38431376],\n",
              "          [0.75294125, 0.65882355, 0.5568628 ],\n",
              "          ...,\n",
              "          [0.89019614, 0.9333334 , 0.90196085],\n",
              "          [0.8980393 , 0.93725497, 0.9058824 ],\n",
              "          [0.8980393 , 0.93725497, 0.9058824 ]],\n",
              " \n",
              "         [[0.5058824 , 0.43529415, 0.34117648],\n",
              "          [0.6       , 0.52156866, 0.42352945],\n",
              "          [0.7411765 , 0.64705884, 0.54509807],\n",
              "          ...,\n",
              "          [0.882353  , 0.92549026, 0.8941177 ],\n",
              "          [0.89019614, 0.9294118 , 0.8980393 ],\n",
              "          [0.89019614, 0.9294118 , 0.8980393 ]],\n",
              " \n",
              "         [[0.49411768, 0.42352945, 0.32941177],\n",
              "          [0.5647059 , 0.48627454, 0.38823533],\n",
              "          [0.7725491 , 0.6784314 , 0.5764706 ],\n",
              "          ...,\n",
              "          [0.8705883 , 0.91372555, 0.882353  ],\n",
              "          [0.882353  , 0.9215687 , 0.89019614],\n",
              "          [0.882353  , 0.9215687 , 0.89019614]],\n",
              " \n",
              "         ...,\n",
              " \n",
              "         [[0.20000002, 0.1137255 , 0.02352941],\n",
              "          [0.23529413, 0.14901961, 0.05490196],\n",
              "          [0.23137257, 0.14901961, 0.04313726],\n",
              "          ...,\n",
              "          [0.4666667 , 0.30980393, 0.17254902],\n",
              "          [0.4431373 , 0.28235295, 0.16470589],\n",
              "          [0.44705886, 0.28627452, 0.16862746]],\n",
              " \n",
              "         [[0.21960786, 0.13333334, 0.04313726],\n",
              "          [0.20784315, 0.12156864, 0.02745098],\n",
              "          [0.20784315, 0.1254902 , 0.01960784],\n",
              "          ...,\n",
              "          [0.49411768, 0.3372549 , 0.20000002],\n",
              "          [0.40000004, 0.24313727, 0.10196079],\n",
              "          [0.43921572, 0.28235295, 0.14117648]],\n",
              " \n",
              "         [[0.16862746, 0.08235294, 0.        ],\n",
              "          [0.16862746, 0.08235294, 0.        ],\n",
              "          [0.20392159, 0.12156864, 0.01568628],\n",
              "          ...,\n",
              "          [0.48627454, 0.32941177, 0.19215688],\n",
              "          [0.3921569 , 0.23137257, 0.1137255 ],\n",
              "          [0.5019608 , 0.34117648, 0.22352943]]],\n",
              " \n",
              " \n",
              "        [[[0.53333336, 0.5764706 , 0.56078434],\n",
              "          [0.48235297, 0.60784316, 0.6039216 ],\n",
              "          [0.5058824 , 0.6431373 , 0.627451  ],\n",
              "          ...,\n",
              "          [0.20784315, 0.20784315, 0.24705884],\n",
              "          [0.227451  , 0.227451  , 0.25882354],\n",
              "          [0.14509805, 0.15686275, 0.18431373]],\n",
              " \n",
              "         [[0.37647063, 0.5294118 , 0.6431373 ],\n",
              "          [0.3803922 , 0.5882353 , 0.7137255 ],\n",
              "          [0.36862746, 0.5764706 , 0.69803923],\n",
              "          ...,\n",
              "          [0.20784315, 0.18823531, 0.21176472],\n",
              "          [0.23137257, 0.22352943, 0.24313727],\n",
              "          [0.15686275, 0.15294118, 0.17254902]],\n",
              " \n",
              "         [[0.3921569 , 0.5764706 , 0.6156863 ],\n",
              "          [0.43921572, 0.63529414, 0.6784314 ],\n",
              "          [0.4901961 , 0.6745098 , 0.7137255 ],\n",
              "          ...,\n",
              "          [0.24313727, 0.20784315, 0.21960786],\n",
              "          [0.28235295, 0.24705884, 0.25882354],\n",
              "          [0.20392159, 0.18431373, 0.20000002]],\n",
              " \n",
              "         ...,\n",
              " \n",
              "         [[0.6313726 , 0.6156863 , 0.5686275 ],\n",
              "          [0.68235296, 0.6666667 , 0.61960787],\n",
              "          [0.7058824 , 0.6901961 , 0.6431373 ],\n",
              "          ...,\n",
              "          [0.13333334, 0.11764707, 0.12156864],\n",
              "          [0.13333334, 0.11764707, 0.12156864],\n",
              "          [0.10196079, 0.08627451, 0.07450981]],\n",
              " \n",
              "         [[0.58431375, 0.5764706 , 0.48627454],\n",
              "          [0.6862745 , 0.6745098 , 0.6156863 ],\n",
              "          [0.69803923, 0.68235296, 0.64705884],\n",
              "          ...,\n",
              "          [0.11764707, 0.11764707, 0.1254902 ],\n",
              "          [0.12156864, 0.12156864, 0.12941177],\n",
              "          [0.11764707, 0.11764707, 0.1254902 ]],\n",
              " \n",
              "         [[0.57254905, 0.5647059 , 0.47450984],\n",
              "          [0.65882355, 0.64705884, 0.5882353 ],\n",
              "          [0.68235296, 0.6666667 , 0.6313726 ],\n",
              "          ...,\n",
              "          [0.13333334, 0.13333334, 0.14117648],\n",
              "          [0.14509805, 0.14509805, 0.15294118],\n",
              "          [0.11764707, 0.11764707, 0.1254902 ]]]], dtype=float32),\n",
              " array([0., 1., 1., 1., 1., 0., 0., 0., 0., 0., 0., 1., 1., 0., 0., 0., 1.,\n",
              "        1., 0., 0., 1., 0., 1., 1., 0., 0., 1., 1., 1., 0., 1., 0.],\n",
              "       dtype=float32))"
            ]
          },
          "metadata": {},
          "execution_count": 16
        }
      ]
    },
    {
      "cell_type": "code",
      "source": [
        "sample_data[0].shape"
      ],
      "metadata": {
        "colab": {
          "base_uri": "https://localhost:8080/"
        },
        "id": "yw3Ik1wpeDWQ",
        "outputId": "00941495-89b1-4ead-8bb2-a35665d44e17"
      },
      "execution_count": null,
      "outputs": [
        {
          "output_type": "execute_result",
          "data": {
            "text/plain": [
              "(32, 64, 64, 3)"
            ]
          },
          "metadata": {},
          "execution_count": 17
        }
      ]
    },
    {
      "cell_type": "code",
      "source": [
        "plt.imshow(sample_data[0][31])"
      ],
      "metadata": {
        "colab": {
          "base_uri": "https://localhost:8080/",
          "height": 449
        },
        "id": "MO3OLMz3eiVF",
        "outputId": "761f8306-8ae3-41f0-88c9-3088c8a361cb"
      },
      "execution_count": 14,
      "outputs": [
        {
          "output_type": "execute_result",
          "data": {
            "text/plain": [
              "<matplotlib.image.AxesImage at 0x7b3e303cdd80>"
            ]
          },
          "metadata": {},
          "execution_count": 14
        },
        {
          "output_type": "display_data",
          "data": {
            "text/plain": [
              "<Figure size 640x480 with 1 Axes>"
            ],
            "image/png": "[encoded data removed]"
          },
          "metadata": {}
        }
      ]
    },
    {
      "cell_type": "code",
      "source": [
        "classifier = Sequential()"
      ],
      "metadata": {
        "id": "n_4hqw4Aeq9R"
      },
      "execution_count": 20,
      "outputs": []
    },
    {
      "cell_type": "code",
      "source": [
        "classifier.add(Conv2D(32,(3,3),input_shape=(64,64,3)))\n",
        "classifier.add(MaxPooling2D())\n",
        "\n",
        "classifier.add(Conv2D(32,(3,3)))\n",
        "classifier.add(MaxPooling2D())\n",
        "\n",
        "classifier.add(Flatten())\n",
        "\n",
        "classifier.add(Dense(128))\n",
        "\n",
        "classifier.add(Dense(64))\n",
        "\n",
        "classifier.add(Dense(1,activation=\"sigmoid\"))"
      ],
      "metadata": {
        "id": "OVPf3wvnhvNS"
      },
      "execution_count": 21,
      "outputs": []
    },
    {
      "cell_type": "code",
      "source": [
        "classifier.compile(optimizer=\"adam\",loss=\"binary_crossentropy\",metrics=['accuracy'])"
      ],
      "metadata": {
        "id": "7ehLJKDui9DW"
      },
      "execution_count": 22,
      "outputs": []
    },
    {
      "cell_type": "code",
      "source": [
        "classifier.fit(training_set, epochs=2, validation_data=testing_set)"
      ],
      "metadata": {
        "colab": {
          "base_uri": "https://localhost:8080/"
        },
        "id": "T_MUAxjwjYut",
        "outputId": "4f61b83e-3440-48c3-def6-cbb8b9fa9ea3"
      },
      "execution_count": 23,
      "outputs": [
        {
          "output_type": "stream",
          "name": "stdout",
          "text": [
            "Epoch 1/2\n",
            "251/251 [==============================] - 1620s 6s/step - loss: 0.6768 - accuracy: 0.6286 - val_loss: 0.5726 - val_accuracy: 0.7079\n",
            "Epoch 2/2\n",
            "251/251 [==============================] - 152s 608ms/step - loss: 0.5871 - accuracy: 0.6907 - val_loss: 0.5358 - val_accuracy: 0.7313\n"
          ]
        },
        {
          "output_type": "execute_result",
          "data": {
            "text/plain": [
              "<keras.src.callbacks.History at 0x7b3e28cb2e90>"
            ]
          },
          "metadata": {},
          "execution_count": 23
        }
      ]
    },
    {
      "cell_type": "code",
      "source": [
        "classifier.save('/content/drive/MyDrive/Tutort/Deploy/CDClassifier.keras')"
      ],
      "metadata": {
        "id": "T-dtwab4jmML"
      },
      "execution_count": 24,
      "outputs": []
    },
    {
      "cell_type": "code",
      "source": [
        "from tensorflow.keras.models import load_model\n",
        "from tensorflow.keras.preprocessing import image\n"
      ],
      "metadata": {
        "id": "ktpNGM-cU3FJ"
      },
      "execution_count": 25,
      "outputs": []
    },
    {
      "cell_type": "code",
      "source": [
        "model_path=\"/content/drive/MyDrive/Tutort/Deploy/CDClassifier.keras\"\n",
        "model=load_model(model_path)"
      ],
      "metadata": {
        "id": "1cwC8PrgV0Z4"
      },
      "execution_count": 27,
      "outputs": []
    },
    {
      "cell_type": "code",
      "source": [
        "# input size = 32,64,64,3 - 4 Dim\n",
        "\n",
        "image_path=\"/content/drive/MyDrive/Tutort/datasets/Predict_Image/Image_05.jpg\"\n",
        "test_image=image.load_img(image_path, target_size=(64,64))\n",
        "print(test_image)\n",
        "test_image = image.img_to_array(test_image)\n",
        "print(test_image.shape)\n",
        "test_image = test_image.reshape(1,64,64,3)\n",
        "print(test_image.shape)\n",
        "result = model.predict(test_image)\n",
        "print(result)\n",
        "if result == 1:\n",
        "  print(\"Dog\")\n",
        "else:\n",
        "  print(\"Cat\")"
      ],
      "metadata": {
        "colab": {
          "base_uri": "https://localhost:8080/"
        },
        "id": "9yFZEWyaXneW",
        "outputId": "8b486bc7-0dc7-4bbd-aa23-e4e7214c2e0d"
      },
      "execution_count": 37,
      "outputs": [
        {
          "output_type": "stream",
          "name": "stdout",
          "text": [
            "<PIL.Image.Image image mode=RGB size=64x64 at 0x7B3E282B0C10>\n",
            "(64, 64, 3)\n",
            "(1, 64, 64, 3)\n",
            "1/1 [==============================] - 0s 22ms/step\n",
            "[[1.]]\n",
            "Dog\n"
          ]
        }
      ]
    }
  ]
}