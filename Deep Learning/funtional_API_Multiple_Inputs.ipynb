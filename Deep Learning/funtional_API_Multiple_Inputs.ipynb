{
  "nbformat": 4,
  "nbformat_minor": 0,
  "metadata": {
    "colab": {
      "provenance": [],
      "authorship_tag": "ABX9TyPh4hzA3tg7VDCsqsL26zJ3",
      "include_colab_link": true
    },
    "kernelspec": {
      "name": "python3",
      "display_name": "Python 3"
    },
    "language_info": {
      "name": "python"
    }
  },
  "cells": [
    {
      "cell_type": "markdown",
      "metadata": {
        "id": "view-in-github",
        "colab_type": "text"
      },
      "source": [
        "<a href=\"https://colab.research.google.com/github/Shivang-Quantum/QuantaPytha/blob/Tutort/Deep%20Learning/funtional_API_Multiple_Inputs.ipynb\" target=\"_parent\"><img src=\"https://colab.research.google.com/assets/colab-badge.svg\" alt=\"Open In Colab\"/></a>"
      ]
    },
    {
      "cell_type": "code",
      "execution_count": 1,
      "metadata": {
        "id": "2mdMkH6wye3b"
      },
      "outputs": [],
      "source": [
        "from tensorflow import keras\n",
        "from keras.models import Model\n",
        "from keras.layers import *"
      ]
    },
    {
      "cell_type": "code",
      "source": [
        "# Define Input\n",
        "input_a=Input(shape=(128,))\n",
        "input_b=Input(shape=(32,))"
      ],
      "metadata": {
        "id": "mNavhkalyo3E"
      },
      "execution_count": 5,
      "outputs": []
    },
    {
      "cell_type": "code",
      "source": [
        "# Creating the 1st branch\n",
        "x=Dense(8,activation='relu')(input_a)\n",
        "x1=Dense(4,activation='relu')(x)\n"
      ],
      "metadata": {
        "id": "YlcRoFoVy11e"
      },
      "execution_count": 6,
      "outputs": []
    },
    {
      "cell_type": "code",
      "source": [
        "# Creating the 2nd branch\n",
        "y=Dense(64,activation='relu')(input_b)\n",
        "y1=Dense(32,activation='relu')(y)\n",
        "y2=Dense(32,activation='sigmoid')(y1)"
      ],
      "metadata": {
        "id": "mBTPVjvqzOB2"
      },
      "execution_count": 7,
      "outputs": []
    },
    {
      "cell_type": "code",
      "source": [
        "# Concatination - Combining output of 2 branches\n",
        "combined=concatenate([x1,y2])\n"
      ],
      "metadata": {
        "id": "wq4JWKRezrrc"
      },
      "execution_count": 9,
      "outputs": []
    },
    {
      "cell_type": "code",
      "source": [
        "z=Dense(2,activation='relu')(combined)\n",
        "z1=Dense(1,activation='linear')(z)"
      ],
      "metadata": {
        "id": "JNhoDrVH1Omr"
      },
      "execution_count": 10,
      "outputs": []
    },
    {
      "cell_type": "code",
      "source": [
        "model=Model(inputs=[input_a,input_b],outputs=z1)"
      ],
      "metadata": {
        "id": "OhyHFtHu1g3z"
      },
      "execution_count": 12,
      "outputs": []
    },
    {
      "cell_type": "code",
      "source": [
        "from keras.utils import plot_model"
      ],
      "metadata": {
        "id": "SvCX_gcg14fU"
      },
      "execution_count": 13,
      "outputs": []
    },
    {
      "cell_type": "code",
      "source": [
        "plot_model(model)"
      ],
      "metadata": {
        "colab": {
          "base_uri": "https://localhost:8080/",
          "height": 661
        },
        "id": "M6pZcrVK12Wn",
        "outputId": "b56ea69b-24c7-47a3-80d8-d8b35319e2ed"
      },
      "execution_count": 14,
      "outputs": [
        {
          "output_type": "execute_result",
          "data": {
            "image/png": "[encoded data removed]",
            "text/plain": [
              "<IPython.core.display.Image object>"
            ]
          },
          "metadata": {},
          "execution_count": 14
        }
      ]
    },
    {
      "cell_type": "code",
      "source": [
        "model.summary()"
      ],
      "metadata": {
        "colab": {
          "base_uri": "https://localhost:8080/"
        },
        "id": "basDyVEB2GMi",
        "outputId": "01293df9-e9dc-46af-d2a1-1fc415823e4d"
      },
      "execution_count": 15,
      "outputs": [
        {
          "output_type": "stream",
          "name": "stdout",
          "text": [
            "Model: \"model\"\n",
            "__________________________________________________________________________________________________\n",
            " Layer (type)                Output Shape                 Param #   Connected to                  \n",
            "==================================================================================================\n",
            " input_4 (InputLayer)        [(None, 32)]                 0         []                            \n",
            "                                                                                                  \n",
            " input_3 (InputLayer)        [(None, 128)]                0         []                            \n",
            "                                                                                                  \n",
            " dense_5 (Dense)             (None, 64)                   2112      ['input_4[0][0]']             \n",
            "                                                                                                  \n",
            " dense_3 (Dense)             (None, 8)                    1032      ['input_3[0][0]']             \n",
            "                                                                                                  \n",
            " dense_6 (Dense)             (None, 32)                   2080      ['dense_5[0][0]']             \n",
            "                                                                                                  \n",
            " dense_4 (Dense)             (None, 4)                    36        ['dense_3[0][0]']             \n",
            "                                                                                                  \n",
            " dense_7 (Dense)             (None, 32)                   1056      ['dense_6[0][0]']             \n",
            "                                                                                                  \n",
            " concatenate_1 (Concatenate  (None, 36)                   0         ['dense_4[0][0]',             \n",
            " )                                                                   'dense_7[0][0]']             \n",
            "                                                                                                  \n",
            " dense_8 (Dense)             (None, 2)                    74        ['concatenate_1[0][0]']       \n",
            "                                                                                                  \n",
            " dense_9 (Dense)             (None, 1)                    3         ['dense_8[0][0]']             \n",
            "                                                                                                  \n",
            "==================================================================================================\n",
            "Total params: 6393 (24.97 KB)\n",
            "Trainable params: 6393 (24.97 KB)\n",
            "Non-trainable params: 0 (0.00 Byte)\n",
            "__________________________________________________________________________________________________\n"
          ]
        }
      ]
    },
    {
      "cell_type": "code",
      "source": [],
      "metadata": {
        "id": "w2rDGHKN2JLE"
      },
      "execution_count": null,
      "outputs": []
    },
    {
      "cell_type": "code",
      "source": [],
      "metadata": {
        "id": "A9Neh_9C1Jc1"
      },
      "execution_count": null,
      "outputs": []
    }
  ]
}