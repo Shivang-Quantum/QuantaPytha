{
  "nbformat": 4,
  "nbformat_minor": 0,
  "metadata": {
    "colab": {
      "provenance": [],
      "gpuType": "T4",
      "authorship_tag": "ABX9TyOROdofuew7Kun89Ks0/wFb",
      "include_colab_link": true
    },
    "kernelspec": {
      "name": "python3",
      "display_name": "Python 3"
    },
    "language_info": {
      "name": "python"
    },
    "accelerator": "GPU"
  },
  "cells": [
    {
      "cell_type": "markdown",
      "metadata": {
        "id": "view-in-github",
        "colab_type": "text"
      },
      "source": [
        "<a href=\"https://colab.research.google.com/github/Shivang-Quantum/QuantaPytha/blob/main/Deep%20Learning/Pytorch_Basics_Binary.ipynb\" target=\"_parent\"><img src=\"https://colab.research.google.com/assets/colab-badge.svg\" alt=\"Open In Colab\"/></a>"
      ]
    },
    {
      "cell_type": "code",
      "execution_count": null,
      "metadata": {
        "id": "Beg-GOTXWpqX"
      },
      "outputs": [],
      "source": []
    },
    {
      "cell_type": "code",
      "execution_count": 1,
      "metadata": {
        "id": "KWsKhxJMWkeK"
      },
      "outputs": [],
      "source": [
        "import torch\n",
        "import torch.nn as nn\n",
        "import torch.optim as optim\n",
        "import pandas as pd\n",
        "import numpy as np"
      ]
    },
    {
      "cell_type": "code",
      "source": [
        "# Generate some data\n",
        "np.random.seed(911)\n",
        "X_data=np.random.uniform(low=1,high=10,size=100)\n",
        "X_data\n",
        "\n",
        "noise=np.random.normal(loc=0,scale=0.5,size=100)\n",
        "noise\n",
        "\n",
        "\n",
        "Y_data= ((X_data + noise)>5).astype(int)"
      ],
      "metadata": {
        "id": "3vDBjtnXW1iA"
      },
      "execution_count": 6,
      "outputs": []
    },
    {
      "cell_type": "code",
      "source": [
        "X_data"
      ],
      "metadata": {
        "colab": {
          "base_uri": "https://localhost:8080/"
        },
        "id": "rJY6E6XbY4qZ",
        "outputId": "79805f92-709e-4806-97da-d1d995985cf6"
      },
      "execution_count": 9,
      "outputs": [
        {
          "output_type": "execute_result",
          "data": {
            "text/plain": [
              "array([1.80580824, 1.70786706, 8.36514055, 4.46301493, 3.23087817,\n",
              "       2.31301871, 5.73626086, 6.70993569, 5.2064843 , 4.82905271,\n",
              "       7.96982143, 8.0841686 , 6.3128683 , 7.2232709 , 7.90902243,\n",
              "       4.51526287, 4.97545521, 5.70404285, 8.77204851, 3.63577717,\n",
              "       5.27416207, 9.7298942 , 2.60612457, 6.12682674, 3.38692288,\n",
              "       6.26551007, 3.36377314, 8.07116936, 1.93228211, 6.87665851,\n",
              "       2.62961139, 2.2079983 , 3.57527495, 9.39473986, 9.5018369 ,\n",
              "       8.15084609, 8.42229076, 9.10005463, 4.06142701, 3.45028682,\n",
              "       5.63350694, 7.90679057, 8.98607938, 2.35945665, 9.71638311,\n",
              "       6.79291426, 1.46786212, 9.78847144, 9.91079893, 9.50400404,\n",
              "       7.22208091, 1.40205957, 4.0597982 , 7.92446408, 4.07163266,\n",
              "       2.31018938, 5.58185962, 9.87307562, 2.11004803, 4.38528251,\n",
              "       9.02411417, 7.27901673, 2.73386723, 3.58070689, 5.35996125,\n",
              "       1.31423973, 8.13563537, 3.75487808, 6.25071029, 8.04274882,\n",
              "       3.3621992 , 6.73081966, 7.36508348, 6.78952528, 4.96819536,\n",
              "       8.41341754, 8.65775486, 8.41834331, 5.47786313, 7.19647379,\n",
              "       8.9500395 , 4.64586773, 3.95867228, 4.30773501, 1.02589974,\n",
              "       5.88132861, 2.9835018 , 8.50557498, 6.53808077, 7.47509137,\n",
              "       5.86020181, 5.54845898, 6.0942866 , 4.53624979, 6.14104713,\n",
              "       4.02532191, 4.94879373, 8.75169349, 8.8827981 , 9.97816358])"
            ]
          },
          "metadata": {},
          "execution_count": 9
        }
      ]
    },
    {
      "cell_type": "code",
      "source": [
        "noise"
      ],
      "metadata": {
        "colab": {
          "base_uri": "https://localhost:8080/"
        },
        "id": "1VsY5j9rY50j",
        "outputId": "152cab49-8dfc-4734-d719-5bda34dfac6f"
      },
      "execution_count": 10,
      "outputs": [
        {
          "output_type": "execute_result",
          "data": {
            "text/plain": [
              "array([ 0.6446309 , -0.44022584,  0.63701666, -0.05518925, -0.26200466,\n",
              "        0.49734892,  0.26453406, -0.42122153,  0.28841215, -0.20098418,\n",
              "       -0.04544686, -0.95119508, -0.90230471,  0.54039583,  0.48261249,\n",
              "       -0.76809556, -0.27264849,  0.40774833,  0.42413242,  0.11497342,\n",
              "       -0.27343174, -0.09640996,  0.1527389 , -0.1767682 ,  0.32755571,\n",
              "        0.20398987,  0.26001359,  0.9738931 , -0.81303844, -0.59849589,\n",
              "        0.02294968,  0.19065872,  0.31257969, -0.87312427,  0.68414431,\n",
              "       -0.37371207,  0.39655861, -0.41310319,  0.47082358,  0.33288437,\n",
              "        0.14204541, -0.07715436, -0.12588315, -0.19790631, -0.66628537,\n",
              "       -0.24697106,  0.09755209,  0.02682145,  0.92861146,  0.11354205,\n",
              "       -0.96947423, -0.34928798, -0.16635877, -0.31960176,  0.16499934,\n",
              "       -0.39186487, -0.18555575, -0.36895558, -0.09820627,  0.06545091,\n",
              "       -0.44126033,  0.41471172,  0.48774081, -0.2300652 ,  0.91678643,\n",
              "       -0.05915641, -0.29105732, -0.14230953,  0.58230411, -0.79927283,\n",
              "       -0.11029736, -1.16184628, -0.24095527,  1.18619316, -0.35097519,\n",
              "        0.12860813, -0.43511471, -0.14345202, -0.56119349,  0.26907592,\n",
              "       -0.71583725, -0.73554635,  0.25603519, -0.27584896, -0.19577383,\n",
              "        0.53152176, -0.0182796 , -0.00376933, -0.20196032,  0.43470861,\n",
              "        0.10523831,  0.14986992,  1.14972924, -0.67263509,  0.4815144 ,\n",
              "        0.47988507, -0.4715932 ,  0.40042934,  0.35500132, -0.35640981])"
            ]
          },
          "metadata": {},
          "execution_count": 10
        }
      ]
    },
    {
      "cell_type": "code",
      "source": [
        "Y_data"
      ],
      "metadata": {
        "colab": {
          "base_uri": "https://localhost:8080/"
        },
        "id": "mUTPttC3Y-5V",
        "outputId": "0d3d37a5-8ba8-40e5-d4be-dcb76380a8d4"
      },
      "execution_count": 11,
      "outputs": [
        {
          "output_type": "execute_result",
          "data": {
            "text/plain": [
              "array([0, 0, 1, 0, 0, 0, 1, 1, 1, 0, 1, 1, 1, 1, 1, 0, 0, 1, 1, 0, 1, 1,\n",
              "       0, 1, 0, 1, 0, 1, 0, 1, 0, 0, 0, 1, 1, 1, 1, 1, 0, 0, 1, 1, 1, 0,\n",
              "       1, 1, 0, 1, 1, 1, 1, 0, 0, 1, 0, 0, 1, 1, 0, 0, 1, 1, 0, 0, 1, 0,\n",
              "       1, 0, 1, 1, 0, 1, 1, 1, 0, 1, 1, 1, 0, 1, 1, 0, 0, 0, 0, 1, 0, 1,\n",
              "       1, 1, 1, 1, 1, 0, 1, 0, 0, 1, 1, 1])"
            ]
          },
          "metadata": {},
          "execution_count": 11
        }
      ]
    },
    {
      "cell_type": "code",
      "source": [
        "# Crete a DF\n",
        "data={\"feature\":X_data,\"target\":Y_data}\n",
        "df=pd.DataFrame(data)\n",
        "df"
      ],
      "metadata": {
        "colab": {
          "base_uri": "https://localhost:8080/",
          "height": 423
        },
        "id": "A51CRsNUZB7t",
        "outputId": "11883833-460e-4c66-fa66-e23e187c96d6"
      },
      "execution_count": 12,
      "outputs": [
        {
          "output_type": "execute_result",
          "data": {
            "text/plain": [
              "     feature  target\n",
              "0   1.805808       0\n",
              "1   1.707867       0\n",
              "2   8.365141       1\n",
              "3   4.463015       0\n",
              "4   3.230878       0\n",
              "..       ...     ...\n",
              "95  4.025322       0\n",
              "96  4.948794       0\n",
              "97  8.751693       1\n",
              "98  8.882798       1\n",
              "99  9.978164       1\n",
              "\n",
              "[100 rows x 2 columns]"
            ],
            "text/html": [
              "\n",
              "  <div id=\"df-bf402d21-2040-4ff5-8ad2-d7ba01cf8f61\" class=\"colab-df-container\">\n",
              "    <div>\n",
              "<style scoped>\n",
              "    .dataframe tbody tr th:only-of-type {\n",
              "        vertical-align: middle;\n",
              "    }\n",
              "\n",
              "    .dataframe tbody tr th {\n",
              "        vertical-align: top;\n",
              "    }\n",
              "\n",
              "    .dataframe thead th {\n",
              "        text-align: right;\n",
              "    }\n",
              "</style>\n",
              "<table border=\"1\" class=\"dataframe\">\n",
              "  <thead>\n",
              "    <tr style=\"text-align: right;\">\n",
              "      <th></th>\n",
              "      <th>feature</th>\n",
              "      <th>target</th>\n",
              "    </tr>\n",
              "  </thead>\n",
              "  <tbody>\n",
              "    <tr>\n",
              "      <th>0</th>\n",
              "      <td>1.805808</td>\n",
              "      <td>0</td>\n",
              "    </tr>\n",
              "    <tr>\n",
              "      <th>1</th>\n",
              "      <td>1.707867</td>\n",
              "      <td>0</td>\n",
              "    </tr>\n",
              "    <tr>\n",
              "      <th>2</th>\n",
              "      <td>8.365141</td>\n",
              "      <td>1</td>\n",
              "    </tr>\n",
              "    <tr>\n",
              "      <th>3</th>\n",
              "      <td>4.463015</td>\n",
              "      <td>0</td>\n",
              "    </tr>\n",
              "    <tr>\n",
              "      <th>4</th>\n",
              "      <td>3.230878</td>\n",
              "      <td>0</td>\n",
              "    </tr>\n",
              "    <tr>\n",
              "      <th>...</th>\n",
              "      <td>...</td>\n",
              "      <td>...</td>\n",
              "    </tr>\n",
              "    <tr>\n",
              "      <th>95</th>\n",
              "      <td>4.025322</td>\n",
              "      <td>0</td>\n",
              "    </tr>\n",
              "    <tr>\n",
              "      <th>96</th>\n",
              "      <td>4.948794</td>\n",
              "      <td>0</td>\n",
              "    </tr>\n",
              "    <tr>\n",
              "      <th>97</th>\n",
              "      <td>8.751693</td>\n",
              "      <td>1</td>\n",
              "    </tr>\n",
              "    <tr>\n",
              "      <th>98</th>\n",
              "      <td>8.882798</td>\n",
              "      <td>1</td>\n",
              "    </tr>\n",
              "    <tr>\n",
              "      <th>99</th>\n",
              "      <td>9.978164</td>\n",
              "      <td>1</td>\n",
              "    </tr>\n",
              "  </tbody>\n",
              "</table>\n",
              "<p>100 rows × 2 columns</p>\n",
              "</div>\n",
              "    <div class=\"colab-df-buttons\">\n",
              "\n",
              "  <div class=\"colab-df-container\">\n",
              "    <button class=\"colab-df-convert\" onclick=\"convertToInteractive('df-bf402d21-2040-4ff5-8ad2-d7ba01cf8f61')\"\n",
              "            title=\"Convert this dataframe to an interactive table.\"\n",
              "            style=\"display:none;\">\n",
              "\n",
              "  <svg xmlns=\"http://www.w3.org/2000/svg\" height=\"24px\" viewBox=\"0 -960 960 960\">\n",
              "    <path d=\"M120-120v-720h720v720H120Zm60-500h600v-160H180v160Zm220 220h160v-160H400v160Zm0 220h160v-160H400v160ZM180-400h160v-160H180v160Zm440 0h160v-160H620v160ZM180-180h160v-160H180v160Zm440 0h160v-160H620v160Z\"/>\n",
              "  </svg>\n",
              "    </button>\n",
              "\n",
              "  <style>\n",
              "    .colab-df-container {\n",
              "      display:flex;\n",
              "      gap: 12px;\n",
              "    }\n",
              "\n",
              "    .colab-df-convert {\n",
              "      background-color: #E8F0FE;\n",
              "      border: none;\n",
              "      border-radius: 50%;\n",
              "      cursor: pointer;\n",
              "      display: none;\n",
              "      fill: #1967D2;\n",
              "      height: 32px;\n",
              "      padding: 0 0 0 0;\n",
              "      width: 32px;\n",
              "    }\n",
              "\n",
              "    .colab-df-convert:hover {\n",
              "      background-color: #E2EBFA;\n",
              "      box-shadow: 0px 1px 2px rgba(60, 64, 67, 0.3), 0px 1px 3px 1px rgba(60, 64, 67, 0.15);\n",
              "      fill: #174EA6;\n",
              "    }\n",
              "\n",
              "    .colab-df-buttons div {\n",
              "      margin-bottom: 4px;\n",
              "    }\n",
              "\n",
              "    [theme=dark] .colab-df-convert {\n",
              "      background-color: #3B4455;\n",
              "      fill: #D2E3FC;\n",
              "    }\n",
              "\n",
              "    [theme=dark] .colab-df-convert:hover {\n",
              "      background-color: #434B5C;\n",
              "      box-shadow: 0px 1px 3px 1px rgba(0, 0, 0, 0.15);\n",
              "      filter: drop-shadow(0px 1px 2px rgba(0, 0, 0, 0.3));\n",
              "      fill: #FFFFFF;\n",
              "    }\n",
              "  </style>\n",
              "\n",
              "    <script>\n",
              "      const buttonEl =\n",
              "        document.querySelector('#df-bf402d21-2040-4ff5-8ad2-d7ba01cf8f61 button.colab-df-convert');\n",
              "      buttonEl.style.display =\n",
              "        google.colab.kernel.accessAllowed ? 'block' : 'none';\n",
              "\n",
              "      async function convertToInteractive(key) {\n",
              "        const element = document.querySelector('#df-bf402d21-2040-4ff5-8ad2-d7ba01cf8f61');\n",
              "        const dataTable =\n",
              "          await google.colab.kernel.invokeFunction('convertToInteractive',\n",
              "                                                    [key], {});\n",
              "        if (!dataTable) return;\n",
              "\n",
              "        const docLinkHtml = 'Like what you see? Visit the ' +\n",
              "          '<a target=\"_blank\" href=https://colab.research.google.com/notebooks/data_table.ipynb>data table notebook</a>'\n",
              "          + ' to learn more about interactive tables.';\n",
              "        element.innerHTML = '';\n",
              "        dataTable['output_type'] = 'display_data';\n",
              "        await google.colab.output.renderOutput(dataTable, element);\n",
              "        const docLink = document.createElement('div');\n",
              "        docLink.innerHTML = docLinkHtml;\n",
              "        element.appendChild(docLink);\n",
              "      }\n",
              "    </script>\n",
              "  </div>\n",
              "\n",
              "\n",
              "<div id=\"df-602b5d18-4b6e-4a4d-a45c-93ea7af85857\">\n",
              "  <button class=\"colab-df-quickchart\" onclick=\"quickchart('df-602b5d18-4b6e-4a4d-a45c-93ea7af85857')\"\n",
              "            title=\"Suggest charts\"\n",
              "            style=\"display:none;\">\n",
              "\n",
              "<svg xmlns=\"http://www.w3.org/2000/svg\" height=\"24px\"viewBox=\"0 0 24 24\"\n",
              "     width=\"24px\">\n",
              "    <g>\n",
              "        <path d=\"M19 3H5c-1.1 0-2 .9-2 2v14c0 1.1.9 2 2 2h14c1.1 0 2-.9 2-2V5c0-1.1-.9-2-2-2zM9 17H7v-7h2v7zm4 0h-2V7h2v10zm4 0h-2v-4h2v4z\"/>\n",
              "    </g>\n",
              "</svg>\n",
              "  </button>\n",
              "\n",
              "<style>\n",
              "  .colab-df-quickchart {\n",
              "      --bg-color: #E8F0FE;\n",
              "      --fill-color: #1967D2;\n",
              "      --hover-bg-color: #E2EBFA;\n",
              "      --hover-fill-color: #174EA6;\n",
              "      --disabled-fill-color: #AAA;\n",
              "      --disabled-bg-color: #DDD;\n",
              "  }\n",
              "\n",
              "  [theme=dark] .colab-df-quickchart {\n",
              "      --bg-color: #3B4455;\n",
              "      --fill-color: #D2E3FC;\n",
              "      --hover-bg-color: #434B5C;\n",
              "      --hover-fill-color: #FFFFFF;\n",
              "      --disabled-bg-color: #3B4455;\n",
              "      --disabled-fill-color: #666;\n",
              "  }\n",
              "\n",
              "  .colab-df-quickchart {\n",
              "    background-color: var(--bg-color);\n",
              "    border: none;\n",
              "    border-radius: 50%;\n",
              "    cursor: pointer;\n",
              "    display: none;\n",
              "    fill: var(--fill-color);\n",
              "    height: 32px;\n",
              "    padding: 0;\n",
              "    width: 32px;\n",
              "  }\n",
              "\n",
              "  .colab-df-quickchart:hover {\n",
              "    background-color: var(--hover-bg-color);\n",
              "    box-shadow: 0 1px 2px rgba(60, 64, 67, 0.3), 0 1px 3px 1px rgba(60, 64, 67, 0.15);\n",
              "    fill: var(--button-hover-fill-color);\n",
              "  }\n",
              "\n",
              "  .colab-df-quickchart-complete:disabled,\n",
              "  .colab-df-quickchart-complete:disabled:hover {\n",
              "    background-color: var(--disabled-bg-color);\n",
              "    fill: var(--disabled-fill-color);\n",
              "    box-shadow: none;\n",
              "  }\n",
              "\n",
              "  .colab-df-spinner {\n",
              "    border: 2px solid var(--fill-color);\n",
              "    border-color: transparent;\n",
              "    border-bottom-color: var(--fill-color);\n",
              "    animation:\n",
              "      spin 1s steps(1) infinite;\n",
              "  }\n",
              "\n",
              "  @keyframes spin {\n",
              "    0% {\n",
              "      border-color: transparent;\n",
              "      border-bottom-color: var(--fill-color);\n",
              "      border-left-color: var(--fill-color);\n",
              "    }\n",
              "    20% {\n",
              "      border-color: transparent;\n",
              "      border-left-color: var(--fill-color);\n",
              "      border-top-color: var(--fill-color);\n",
              "    }\n",
              "    30% {\n",
              "      border-color: transparent;\n",
              "      border-left-color: var(--fill-color);\n",
              "      border-top-color: var(--fill-color);\n",
              "      border-right-color: var(--fill-color);\n",
              "    }\n",
              "    40% {\n",
              "      border-color: transparent;\n",
              "      border-right-color: var(--fill-color);\n",
              "      border-top-color: var(--fill-color);\n",
              "    }\n",
              "    60% {\n",
              "      border-color: transparent;\n",
              "      border-right-color: var(--fill-color);\n",
              "    }\n",
              "    80% {\n",
              "      border-color: transparent;\n",
              "      border-right-color: var(--fill-color);\n",
              "      border-bottom-color: var(--fill-color);\n",
              "    }\n",
              "    90% {\n",
              "      border-color: transparent;\n",
              "      border-bottom-color: var(--fill-color);\n",
              "    }\n",
              "  }\n",
              "</style>\n",
              "\n",
              "  <script>\n",
              "    async function quickchart(key) {\n",
              "      const quickchartButtonEl =\n",
              "        document.querySelector('#' + key + ' button');\n",
              "      quickchartButtonEl.disabled = true;  // To prevent multiple clicks.\n",
              "      quickchartButtonEl.classList.add('colab-df-spinner');\n",
              "      try {\n",
              "        const charts = await google.colab.kernel.invokeFunction(\n",
              "            'suggestCharts', [key], {});\n",
              "      } catch (error) {\n",
              "        console.error('Error during call to suggestCharts:', error);\n",
              "      }\n",
              "      quickchartButtonEl.classList.remove('colab-df-spinner');\n",
              "      quickchartButtonEl.classList.add('colab-df-quickchart-complete');\n",
              "    }\n",
              "    (() => {\n",
              "      let quickchartButtonEl =\n",
              "        document.querySelector('#df-602b5d18-4b6e-4a4d-a45c-93ea7af85857 button');\n",
              "      quickchartButtonEl.style.display =\n",
              "        google.colab.kernel.accessAllowed ? 'block' : 'none';\n",
              "    })();\n",
              "  </script>\n",
              "</div>\n",
              "\n",
              "  <div id=\"id_7f0f1522-fd07-4c5c-a3d1-4f0698ede854\">\n",
              "    <style>\n",
              "      .colab-df-generate {\n",
              "        background-color: #E8F0FE;\n",
              "        border: none;\n",
              "        border-radius: 50%;\n",
              "        cursor: pointer;\n",
              "        display: none;\n",
              "        fill: #1967D2;\n",
              "        height: 32px;\n",
              "        padding: 0 0 0 0;\n",
              "        width: 32px;\n",
              "      }\n",
              "\n",
              "      .colab-df-generate:hover {\n",
              "        background-color: #E2EBFA;\n",
              "        box-shadow: 0px 1px 2px rgba(60, 64, 67, 0.3), 0px 1px 3px 1px rgba(60, 64, 67, 0.15);\n",
              "        fill: #174EA6;\n",
              "      }\n",
              "\n",
              "      [theme=dark] .colab-df-generate {\n",
              "        background-color: #3B4455;\n",
              "        fill: #D2E3FC;\n",
              "      }\n",
              "\n",
              "      [theme=dark] .colab-df-generate:hover {\n",
              "        background-color: #434B5C;\n",
              "        box-shadow: 0px 1px 3px 1px rgba(0, 0, 0, 0.15);\n",
              "        filter: drop-shadow(0px 1px 2px rgba(0, 0, 0, 0.3));\n",
              "        fill: #FFFFFF;\n",
              "      }\n",
              "    </style>\n",
              "    <button class=\"colab-df-generate\" onclick=\"generateWithVariable('df')\"\n",
              "            title=\"Generate code using this dataframe.\"\n",
              "            style=\"display:none;\">\n",
              "\n",
              "  <svg xmlns=\"http://www.w3.org/2000/svg\" height=\"24px\"viewBox=\"0 0 24 24\"\n",
              "       width=\"24px\">\n",
              "    <path d=\"M7,19H8.4L18.45,9,17,7.55,7,17.6ZM5,21V16.75L18.45,3.32a2,2,0,0,1,2.83,0l1.4,1.43a1.91,1.91,0,0,1,.58,1.4,1.91,1.91,0,0,1-.58,1.4L9.25,21ZM18.45,9,17,7.55Zm-12,3A5.31,5.31,0,0,0,4.9,8.1,5.31,5.31,0,0,0,1,6.5,5.31,5.31,0,0,0,4.9,4.9,5.31,5.31,0,0,0,6.5,1,5.31,5.31,0,0,0,8.1,4.9,5.31,5.31,0,0,0,12,6.5,5.46,5.46,0,0,0,6.5,12Z\"/>\n",
              "  </svg>\n",
              "    </button>\n",
              "    <script>\n",
              "      (() => {\n",
              "      const buttonEl =\n",
              "        document.querySelector('#id_7f0f1522-fd07-4c5c-a3d1-4f0698ede854 button.colab-df-generate');\n",
              "      buttonEl.style.display =\n",
              "        google.colab.kernel.accessAllowed ? 'block' : 'none';\n",
              "\n",
              "      buttonEl.onclick = () => {\n",
              "        google.colab.notebook.generateWithVariable('df');\n",
              "      }\n",
              "      })();\n",
              "    </script>\n",
              "  </div>\n",
              "\n",
              "    </div>\n",
              "  </div>\n"
            ]
          },
          "metadata": {},
          "execution_count": 12
        }
      ]
    },
    {
      "cell_type": "code",
      "source": [
        "X=torch.tensor(df['feature'].values,dtype=torch.float32).view(-1,1)\n",
        "Y=torch.tensor(df['target'].values,dtype=torch.float32).view(-1,1)\n",
        "\n",
        "X"
      ],
      "metadata": {
        "colab": {
          "base_uri": "https://localhost:8080/"
        },
        "id": "ry4o2x87Zib8",
        "outputId": "442d8c46-a7cf-44f8-8ab6-8c1c87780deb"
      },
      "execution_count": 15,
      "outputs": [
        {
          "output_type": "execute_result",
          "data": {
            "text/plain": [
              "tensor([[1.8058],\n",
              "        [1.7079],\n",
              "        [8.3651],\n",
              "        [4.4630],\n",
              "        [3.2309],\n",
              "        [2.3130],\n",
              "        [5.7363],\n",
              "        [6.7099],\n",
              "        [5.2065],\n",
              "        [4.8291],\n",
              "        [7.9698],\n",
              "        [8.0842],\n",
              "        [6.3129],\n",
              "        [7.2233],\n",
              "        [7.9090],\n",
              "        [4.5153],\n",
              "        [4.9755],\n",
              "        [5.7040],\n",
              "        [8.7720],\n",
              "        [3.6358],\n",
              "        [5.2742],\n",
              "        [9.7299],\n",
              "        [2.6061],\n",
              "        [6.1268],\n",
              "        [3.3869],\n",
              "        [6.2655],\n",
              "        [3.3638],\n",
              "        [8.0712],\n",
              "        [1.9323],\n",
              "        [6.8767],\n",
              "        [2.6296],\n",
              "        [2.2080],\n",
              "        [3.5753],\n",
              "        [9.3947],\n",
              "        [9.5018],\n",
              "        [8.1508],\n",
              "        [8.4223],\n",
              "        [9.1001],\n",
              "        [4.0614],\n",
              "        [3.4503],\n",
              "        [5.6335],\n",
              "        [7.9068],\n",
              "        [8.9861],\n",
              "        [2.3595],\n",
              "        [9.7164],\n",
              "        [6.7929],\n",
              "        [1.4679],\n",
              "        [9.7885],\n",
              "        [9.9108],\n",
              "        [9.5040],\n",
              "        [7.2221],\n",
              "        [1.4021],\n",
              "        [4.0598],\n",
              "        [7.9245],\n",
              "        [4.0716],\n",
              "        [2.3102],\n",
              "        [5.5819],\n",
              "        [9.8731],\n",
              "        [2.1100],\n",
              "        [4.3853],\n",
              "        [9.0241],\n",
              "        [7.2790],\n",
              "        [2.7339],\n",
              "        [3.5807],\n",
              "        [5.3600],\n",
              "        [1.3142],\n",
              "        [8.1356],\n",
              "        [3.7549],\n",
              "        [6.2507],\n",
              "        [8.0427],\n",
              "        [3.3622],\n",
              "        [6.7308],\n",
              "        [7.3651],\n",
              "        [6.7895],\n",
              "        [4.9682],\n",
              "        [8.4134],\n",
              "        [8.6578],\n",
              "        [8.4183],\n",
              "        [5.4779],\n",
              "        [7.1965],\n",
              "        [8.9500],\n",
              "        [4.6459],\n",
              "        [3.9587],\n",
              "        [4.3077],\n",
              "        [1.0259],\n",
              "        [5.8813],\n",
              "        [2.9835],\n",
              "        [8.5056],\n",
              "        [6.5381],\n",
              "        [7.4751],\n",
              "        [5.8602],\n",
              "        [5.5485],\n",
              "        [6.0943],\n",
              "        [4.5362],\n",
              "        [6.1410],\n",
              "        [4.0253],\n",
              "        [4.9488],\n",
              "        [8.7517],\n",
              "        [8.8828],\n",
              "        [9.9782]])"
            ]
          },
          "metadata": {},
          "execution_count": 15
        }
      ]
    },
    {
      "cell_type": "code",
      "source": [
        "Y"
      ],
      "metadata": {
        "colab": {
          "base_uri": "https://localhost:8080/"
        },
        "id": "TehQlHzAZ3B4",
        "outputId": "5b5eb1c7-fa1f-48dd-b3df-54b22058f68a"
      },
      "execution_count": 16,
      "outputs": [
        {
          "output_type": "execute_result",
          "data": {
            "text/plain": [
              "tensor([[0.],\n",
              "        [0.],\n",
              "        [1.],\n",
              "        [0.],\n",
              "        [0.],\n",
              "        [0.],\n",
              "        [1.],\n",
              "        [1.],\n",
              "        [1.],\n",
              "        [0.],\n",
              "        [1.],\n",
              "        [1.],\n",
              "        [1.],\n",
              "        [1.],\n",
              "        [1.],\n",
              "        [0.],\n",
              "        [0.],\n",
              "        [1.],\n",
              "        [1.],\n",
              "        [0.],\n",
              "        [1.],\n",
              "        [1.],\n",
              "        [0.],\n",
              "        [1.],\n",
              "        [0.],\n",
              "        [1.],\n",
              "        [0.],\n",
              "        [1.],\n",
              "        [0.],\n",
              "        [1.],\n",
              "        [0.],\n",
              "        [0.],\n",
              "        [0.],\n",
              "        [1.],\n",
              "        [1.],\n",
              "        [1.],\n",
              "        [1.],\n",
              "        [1.],\n",
              "        [0.],\n",
              "        [0.],\n",
              "        [1.],\n",
              "        [1.],\n",
              "        [1.],\n",
              "        [0.],\n",
              "        [1.],\n",
              "        [1.],\n",
              "        [0.],\n",
              "        [1.],\n",
              "        [1.],\n",
              "        [1.],\n",
              "        [1.],\n",
              "        [0.],\n",
              "        [0.],\n",
              "        [1.],\n",
              "        [0.],\n",
              "        [0.],\n",
              "        [1.],\n",
              "        [1.],\n",
              "        [0.],\n",
              "        [0.],\n",
              "        [1.],\n",
              "        [1.],\n",
              "        [0.],\n",
              "        [0.],\n",
              "        [1.],\n",
              "        [0.],\n",
              "        [1.],\n",
              "        [0.],\n",
              "        [1.],\n",
              "        [1.],\n",
              "        [0.],\n",
              "        [1.],\n",
              "        [1.],\n",
              "        [1.],\n",
              "        [0.],\n",
              "        [1.],\n",
              "        [1.],\n",
              "        [1.],\n",
              "        [0.],\n",
              "        [1.],\n",
              "        [1.],\n",
              "        [0.],\n",
              "        [0.],\n",
              "        [0.],\n",
              "        [0.],\n",
              "        [1.],\n",
              "        [0.],\n",
              "        [1.],\n",
              "        [1.],\n",
              "        [1.],\n",
              "        [1.],\n",
              "        [1.],\n",
              "        [1.],\n",
              "        [0.],\n",
              "        [1.],\n",
              "        [0.],\n",
              "        [0.],\n",
              "        [1.],\n",
              "        [1.],\n",
              "        [1.]])"
            ]
          },
          "metadata": {},
          "execution_count": 16
        }
      ]
    },
    {
      "cell_type": "code",
      "source": [
        "class my_LinearRegression(nn.Module):\n",
        "  def __init__(self,input_size,hidden_size1,hidden_size2,output_size):\n",
        "    super().__init__()\n",
        "\n",
        "    self.layer1=nn.Linear(input_size,hidden_size1)\n",
        "    self.relu1=nn.ReLU()\n",
        "\n",
        "    self.layer2=nn.Linear(hidden_size1,hidden_size2)\n",
        "    self.sigmoid2=nn.Sigmoid()\n",
        "\n",
        "    self.output=nn.Linear(hidden_size2,output_size)\n",
        "\n",
        "  def forward(self,x):\n",
        "    x=self.layer1(x)\n",
        "    x=self.relu1(x)\n",
        "    x=self.layer2(x)\n",
        "    x=self.sigmoid2(x)\n",
        "    x=self.output(x)\n",
        "    return x"
      ],
      "metadata": {
        "id": "6PjTwnILYhiH"
      },
      "execution_count": 20,
      "outputs": []
    },
    {
      "cell_type": "code",
      "source": [
        "input_size=1\n",
        "hidden_size1=3\n",
        "hidden_size2=7\n",
        "output_size=1 # Bnary\n",
        "\n",
        "model=my_LinearRegression(input_size,hidden_size1,hidden_size2,output_size)\n"
      ],
      "metadata": {
        "id": "j_gA5u_0YG80"
      },
      "execution_count": 19,
      "outputs": []
    },
    {
      "cell_type": "code",
      "source": [
        "criterion=nn.BCEWithLogitsLoss()\n",
        "optimizer=optim.SGD(model.parameters(),lr=0.01)"
      ],
      "metadata": {
        "id": "1QLOOR2RbtLF"
      },
      "execution_count": 21,
      "outputs": []
    },
    {
      "cell_type": "code",
      "source": [
        "num_epochs=100\n",
        "for epochs in range(num_epochs):\n",
        "\n",
        "  #forward pass\n",
        "  output=model(X)\n",
        "  loss = criterion(output,Y)\n",
        "\n",
        "  #backward pass\n",
        "  optimizer.zero_grad()\n",
        "  loss.backward()\n",
        "  optimizer.step()\n",
        "\n",
        "  # print loss\n",
        "  if (epochs + 1)%10==0:\n",
        "    print(f\"EPOCH {epochs+1}/{num_epochs},LOSS {loss.item():.4f}\")\n",
        "\n"
      ],
      "metadata": {
        "colab": {
          "base_uri": "https://localhost:8080/"
        },
        "id": "9bQAyrBocn7y",
        "outputId": "d451f036-dfd9-4c53-b9e9-518340d43a1a"
      },
      "execution_count": 22,
      "outputs": [
        {
          "output_type": "stream",
          "name": "stdout",
          "text": [
            "EPOCH 10/100,LOSS 0.6634\n",
            "EPOCH 20/100,LOSS 0.6608\n",
            "EPOCH 30/100,LOSS 0.6584\n",
            "EPOCH 40/100,LOSS 0.6562\n",
            "EPOCH 50/100,LOSS 0.6542\n",
            "EPOCH 60/100,LOSS 0.6524\n",
            "EPOCH 70/100,LOSS 0.6507\n",
            "EPOCH 80/100,LOSS 0.6491\n",
            "EPOCH 90/100,LOSS 0.6477\n",
            "EPOCH 100/100,LOSS 0.6463\n"
          ]
        }
      ]
    },
    {
      "cell_type": "code",
      "source": [
        "with torch.no_grad():\n",
        "  print(f'Trained Param: Layer 1 weight {model.layer1.weight.data}, Layer 1 Bias {model.layer1.bias.data}')\n",
        "  print(f'Trained Param: Layer 1 weight {model.layer2.weight.data}, Layer 1 Bias {model.layer2.bias.data}')"
      ],
      "metadata": {
        "id": "3MRYKZ6Ydc4K",
        "colab": {
          "base_uri": "https://localhost:8080/"
        },
        "outputId": "d76cbd02-193a-49d2-809c-505c987ce413"
      },
      "execution_count": 23,
      "outputs": [
        {
          "output_type": "stream",
          "name": "stdout",
          "text": [
            "Trained Param: Layer 1 weight tensor([[-0.1474],\n",
            "        [ 0.0082],\n",
            "        [ 0.6464]]), Layer 1 Bias tensor([0.2973, 0.3350, 0.2955])\n",
            "Trained Param: Layer 1 weight tensor([[ 0.0061, -0.5156, -0.1653],\n",
            "        [-0.4183,  0.1590, -0.1408],\n",
            "        [-0.4946, -0.2302,  0.4380],\n",
            "        [-0.3028, -0.3653,  0.0575],\n",
            "        [ 0.3370,  0.4298, -0.4973],\n",
            "        [-0.2380, -0.1898,  0.1199],\n",
            "        [-0.1453, -0.0642,  0.0565]]), Layer 1 Bias tensor([ 0.1053,  0.4903,  0.2320, -0.0600, -0.3337,  0.4653,  0.3072])\n"
          ]
        }
      ]
    },
    {
      "cell_type": "code",
      "source": [
        "with torch.no_grad():\n",
        "  prediction=torch.sigmoid(model(X)).numpy()\n",
        ""
      ],
      "metadata": {
        "id": "iKRpZlYDgXRB"
      },
      "execution_count": 29,
      "outputs": []
    },
    {
      "cell_type": "code",
      "source": [],
      "metadata": {
        "id": "n-0Qhd41hWDx"
      },
      "execution_count": null,
      "outputs": []
    },
    {
      "cell_type": "code",
      "source": [
        "df['prob']=prediction\n",
        "df['pred']=(prediction>0.5).astype(int)\n",
        "acc=np.mean(df['pred']==df['target'])"
      ],
      "metadata": {
        "id": "5Gek6WIsgrRl"
      },
      "execution_count": 31,
      "outputs": []
    },
    {
      "cell_type": "code",
      "source": [
        "df\n",
        "acc"
      ],
      "metadata": {
        "colab": {
          "base_uri": "https://localhost:8080/"
        },
        "id": "_BhFYCy-g-27",
        "outputId": "424226e7-faf4-44dc-8a82-bd501028d412"
      },
      "execution_count": 34,
      "outputs": [
        {
          "output_type": "execute_result",
          "data": {
            "text/plain": [
              "0.59"
            ]
          },
          "metadata": {},
          "execution_count": 34
        }
      ]
    },
    {
      "cell_type": "code",
      "source": [],
      "metadata": {
        "id": "Y8fW2XW1hGXC"
      },
      "execution_count": null,
      "outputs": []
    }
  ]
}